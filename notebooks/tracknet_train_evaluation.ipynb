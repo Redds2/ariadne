{
 "cells": [
  {
   "cell_type": "code",
   "execution_count": 1,
   "metadata": {},
   "outputs": [],
   "source": [
    "import os\n",
    "import sys\n",
    "import gin\n",
    "import numpy as np\n",
    "import pandas as pd\n",
    "sys.path.append('../')\n",
    "from IPython.core.display import clear_output, display\n",
    "from ariadne.graph_net.graph_utils.graph_prepare_utils import to_pandas_graph_from_df, get_pd_line_graph, \\\n",
    "    apply_nodes_restrictions, apply_edge_restriction, construct_output_graph\n",
    "\n",
    "from ariadne.transformations import Compose, ConstraintsNormalize, ToCylindrical,DropFakes, DropSpinningTracks, DropShort\n",
    "module_path = os.path.abspath(os.path.join('..'))\n",
    "if module_path not in sys.path:\n",
    "    sys.path.append(module_path)\n",
    "\n",
    "import matplotlib.pyplot as plt\n",
    "\n",
    "%matplotlib inline\n",
    "%load_ext autoreload\n",
    "%autoreload 2\n"
   ]
  },
  {
   "cell_type": "code",
   "execution_count": 2,
   "metadata": {},
   "outputs": [],
   "source": [
    "from prepare import parse\n",
    "\n",
    "csv_params = {\n",
    "\"sep\": '\\s+',\n",
    "\"nrows\": 15000,\n",
    "\"encoding\": 'utf-8',\n",
    "\"names\": ['event',  'x', 'y', 'z', 'station', 'track', 'px', 'py', 'pz', 'X0', 'Y0', 'Z0']\n",
    "}\n",
    "\n",
    "stations_constraints = {\n",
    "    0: {'r': [-167., 167.], 'phi': [-3.15, 3.15], 'z': [-423.5, 423.5]},\n",
    "    1: {'r': [-167., 167.], 'phi': [-3.15, 3.15], 'z': [-423.5, 423.5]},\n",
    "    2: {'r': [-167., 167.], 'phi': [-3.15, 3.15], 'z': [-423.5, 423.5]},\n",
    "}\n"
   ]
  },
  {
   "cell_type": "code",
   "execution_count": 3,
   "metadata": {},
   "outputs": [
    {
     "name": "stdout",
     "output_type": "stream",
     "text": [
      "[  0   1   2   3   4   5   6   7   8   9  10  11  12  13  14  15  16  17\n",
      "  18  19  20  21  22  23  24  25  26  27  28  29  30  31  32  33  34  35\n",
      "  36  37  38  39  40  41  42  43  44  45  46  47  48  49  50  51  52  53\n",
      "  54  55  56  57  58  59  60  61  62  63  64  65  66  67  68  69  70  71\n",
      "  72  73  74  75  76  77  78  79  80  81  82  83  84  85  86  87  88  89\n",
      "  90  91  92  93  94  95  96  97  98  99 100 101 102 103 104 105 106 107\n",
      " 108 109 110 111 112 113 114 115 116 117 118 119 120 121 122 123 124 125\n",
      " 126 127 128 129 130 131 132 133 134 135 136 137 138 139 140 141 142 143\n",
      " 144 145 146 147 148 149 150 151 152 153 154 155 156 157 158 159 160 161\n",
      " 162 163 164 165 166 167 168 169 170 171 172 173 174 175 176 177 178 179\n",
      " 180 181 182 183 184 185 186 187 188 189 190 191 192 193 194 195 196 197\n",
      " 198 199 200 201 202 203 204 205 206 207 208 209 210 211 212 213 214 215\n",
      " 216 217 218 219 220 221 222 223 224 225 226 227 228 229 230 231 232 233\n",
      " 234 235 236 237 238 239 240 241 242 243 244 245 246 247 248 249 250 251\n",
      " 252 253 254 255 256 257 258 259 260 261 262 263 264 265 266 267 268 269\n",
      " 270 271 272 273 274 275 276 277 278 279 280 281 282 283 284 285 286 287\n",
      " 288 289 290 291 292 293 294 295 296 297 298 299]\n"
     ]
    }
   ],
   "source": [
    "events = parse(\"../data/new_data/1.txt\", csv_params=csv_params, events_quantity='0..300')\n",
    "events = next(events)[0]\n",
    "events_to_analyze = events[events.event < 300]"
   ]
  },
  {
   "cell_type": "code",
   "execution_count": 36,
   "metadata": {
    "scrolled": true
   },
   "outputs": [],
   "source": [
    "from ariadne.tracknet_v2.model import TrackNETv2\n",
    "import torch\n",
    "\n",
    "gin.bind_parameter('TrackNETv2.input_features', 3)\n",
    "gin.bind_parameter('TrackNETv2.conv_features', 32)\n",
    "gin.bind_parameter('TrackNETv2.rnn_type', 'gru')\n",
    "gin.bind_parameter('TrackNETv2.batch_first', True)\n",
    "\n",
    "def weights_update(model, checkpoint):\n",
    "    model_dict = model.state_dict()    \n",
    "    pretrained_dict =  checkpoint['state_dict']\n",
    "    real_dict = {}\n",
    "    for (k,v) in model_dict.items():\n",
    "        needed_key = None\n",
    "        for pretr_key in pretrained_dict:\n",
    "            if k in pretr_key:\n",
    "                needed_key = pretr_key\n",
    "                break\n",
    "        assert needed_key is not None, \"key %s not in pretrained_dict %r!\" % (k, pretrained_dict.keys())\n",
    "        real_dict[k] = pretrained_dict[needed_key]\n",
    "\n",
    "    model.load_state_dict(real_dict)\n",
    "    model.eval()\n",
    "    return model\n",
    "\n",
    "model = weights_update(model=TrackNETv2(), checkpoint=torch.load('../lightning_logs/epoch=270.ckpt'))\n"
   ]
  },
  {
   "cell_type": "code",
   "execution_count": 37,
   "metadata": {},
   "outputs": [],
   "source": [
    "from ariadne.tracknet_v2.dataset import TrackNetV2ExplicitDataset\n",
    "from ariadne.tracknet_v2.data_loader import TrackNetV2DataLoader\n",
    "\n",
    "gin.bind_parameter('TrackNetV2ExplicitDataset.input_dir', '../output/cgem_t_plain_explicit_test')\n",
    "gin.bind_parameter('TrackNetV2ExplicitDataset.input_file', 'tracknet_test_all_explicit.npz')\n",
    "data_loader = TrackNetV2DataLoader(\n",
    "    batch_size=500,\n",
    "    dataset=TrackNetV2ExplicitDataset,\n",
    "    valid_size=1.0\n",
    ").get_val_dataloader()"
   ]
  },
  {
   "cell_type": "code",
   "execution_count": 38,
   "metadata": {},
   "outputs": [],
   "source": [
    "import numpy as np\n",
    "all_last_station_coordinates = np.load('../output/cgem_t_plain_explicit_test/tracknet_test_all_explicit_all_last_station.npz')\n",
    "last_station_hits = all_last_station_coordinates['hits'][:, 1:]\n",
    "last_station_hits_torch = torch.from_numpy(last_station_hits)"
   ]
  },
  {
   "cell_type": "code",
   "execution_count": 39,
   "metadata": {},
   "outputs": [
    {
     "data": {
      "text/plain": [
       "torch.Size([4008, 2])"
      ]
     },
     "execution_count": 39,
     "metadata": {},
     "output_type": "execute_result"
    }
   ],
   "source": [
    "last_station_hits_torch.size()"
   ]
  },
  {
   "cell_type": "code",
   "execution_count": 23,
   "metadata": {
    "collapsed": true,
    "jupyter": {
     "outputs_hidden": true
    }
   },
   "outputs": [
    {
     "name": "stdout",
     "output_type": "stream",
     "text": [
      "{'x': {'inputs': tensor([[[ 0.4884,  0.9697,  0.2359],\n",
      "         [ 0.7548, -0.3501,  0.0408]],\n",
      "\n",
      "        [[ 0.4884, -0.3879,  0.3106],\n",
      "         [ 0.7548,  0.4520, -0.1058]]], dtype=torch.float64), 'input_lengths': tensor([2, 2])}, 'y': tensor([[-0.9708, -0.8363],\n",
      "        [ 0.7650, -0.4842]], dtype=torch.float64), 'index': tensor([10212, 10323]), 'moment': tensor([[-0.0422, -0.1431, -0.3020],\n",
      "        [ 0.2159, -0.2936, -0.4709]], dtype=torch.float64), 'is_real_track': tensor([0, 0])}\n",
      "in model tensor([[[ 0.4884,  0.9697,  0.2359],\n",
      "         [ 0.7548, -0.3501,  0.0408]],\n",
      "\n",
      "        [[ 0.4884, -0.3879,  0.3106],\n",
      "         [ 0.7548,  0.4520, -0.1058]]], dtype=torch.float64)\n",
      "in model we feed tensor([[[ 0.4884,  0.7548],\n",
      "         [ 0.9697, -0.3501],\n",
      "         [ 0.2359,  0.0408]],\n",
      "\n",
      "        [[ 0.4884,  0.7548],\n",
      "         [-0.3879,  0.4520],\n",
      "         [ 0.3106, -0.1058]]])\n",
      "after all rnn stuff tensor([[[-2.7566e-02,  9.4343e-02, -3.1297e-02,  2.4001e-01,  1.2012e-01,\n",
      "          -4.9626e-02, -3.8934e-01, -4.4327e-01, -4.5092e-01,  3.4142e-01,\n",
      "          -3.9613e-01, -2.7927e-01, -2.1787e-01,  4.6552e-01,  3.4865e-02,\n",
      "           2.0557e-01, -5.0794e-04, -2.6254e-01, -5.1254e-01, -1.5307e-01,\n",
      "           4.8425e-01,  1.5816e-01,  1.8700e-02, -3.2342e-01,  2.6356e-01,\n",
      "          -2.6508e-01, -4.8459e-01,  2.3905e-01, -3.0537e-03, -2.2879e-01,\n",
      "           1.6861e-01, -3.2261e-01],\n",
      "         [-3.1941e-01,  1.2407e-01,  2.4981e-01,  2.9257e-01,  1.7161e-01,\n",
      "          -7.3152e-02, -2.5229e-02, -4.2900e-01, -7.2334e-01,  2.9607e-01,\n",
      "          -5.0613e-01, -3.4476e-01, -1.9315e-01,  4.9509e-01,  3.8943e-02,\n",
      "          -1.5452e-01, -2.3397e-03, -3.0181e-01, -5.2183e-01, -5.7546e-02,\n",
      "          -5.5629e-01, -1.2975e-01,  1.9680e-02, -3.4377e-01,  4.1721e-01,\n",
      "          -4.2170e-01, -1.4369e-01,  3.3098e-01, -3.0948e-03, -2.7064e-01,\n",
      "           5.6606e-02,  1.3858e-01]],\n",
      "\n",
      "        [[ 2.0976e-01, -3.8999e-02,  4.8676e-03, -2.9460e-01, -9.1555e-02,\n",
      "           2.0766e-01, -3.3910e-01,  9.8163e-02,  1.6945e-01,  1.0920e-01,\n",
      "           1.0354e-01,  1.2093e-01,  5.0940e-02, -3.0757e-01, -8.9472e-02,\n",
      "           3.1207e-01,  1.7220e-02,  3.0090e-01,  1.9415e-01,  2.3861e-01,\n",
      "           5.7490e-01,  3.3139e-01,  1.2065e-03,  3.2515e-01, -4.9790e-01,\n",
      "           2.7441e-01, -3.3367e-01,  5.2376e-02, -1.6786e-02, -1.3998e-04,\n",
      "           2.4775e-01, -3.3575e-01],\n",
      "         [ 2.2157e-01, -7.1701e-02, -6.5005e-03, -3.7461e-01, -1.4936e-01,\n",
      "           2.2949e-01, -3.5330e-01, -8.5962e-02,  4.8395e-01, -2.1101e-01,\n",
      "           1.8485e-01,  1.3101e-01,  5.4693e-02, -4.3056e-01, -1.1342e-01,\n",
      "           1.1383e-01,  1.3598e-02,  4.2880e-01,  2.8427e-01,  3.3853e-01,\n",
      "          -2.4339e-01,  4.6681e-01, -1.3567e-02,  3.9052e-01, -6.9860e-01,\n",
      "           5.3837e-01, -1.8891e-01,  7.1950e-02, -2.1201e-02, -3.7461e-02,\n",
      "           1.9581e-01, -4.4314e-01]]])\n",
      "tensor([[-0.7814,  0.0128],\n",
      "        [ 0.2160, -0.2330],\n",
      "        [ 0.2889, -0.0194],\n",
      "        ...,\n",
      "        [-0.2586,  0.3975],\n",
      "        [ 0.2931,  0.0819],\n",
      "        [ 0.7088,  0.3361]], dtype=torch.float64)\n",
      "tensor([[[-0.7814,  0.0128]],\n",
      "\n",
      "        [[ 0.2160, -0.2330]],\n",
      "\n",
      "        [[ 0.2889, -0.0194]],\n",
      "\n",
      "        ...,\n",
      "\n",
      "        [[-0.2586,  0.3975]],\n",
      "\n",
      "        [[ 0.2931,  0.0819]],\n",
      "\n",
      "        [[ 0.7088,  0.3361]]], dtype=torch.float64)\n"
     ]
    },
    {
     "ename": "RuntimeError",
     "evalue": "X1 and X2 must have the same number of columns. X1: 4 X2: 2",
     "output_type": "error",
     "traceback": [
      "\u001b[0;31m-----------------------------------------------------------------\u001b[0m",
      "\u001b[0;31mRuntimeError\u001b[0m                    Traceback (most recent call last)",
      "\u001b[0;32m<ipython-input-23-827d9ac67b08>\u001b[0m in \u001b[0;36m<module>\u001b[0;34m\u001b[0m\n\u001b[1;32m      1\u001b[0m \u001b[0;32mfor\u001b[0m \u001b[0mbatch\u001b[0m \u001b[0;32min\u001b[0m \u001b[0mdata_loader\u001b[0m\u001b[0;34m:\u001b[0m\u001b[0;34m\u001b[0m\u001b[0;34m\u001b[0m\u001b[0m\n\u001b[1;32m      2\u001b[0m     \u001b[0mprint\u001b[0m\u001b[0;34m(\u001b[0m\u001b[0mbatch\u001b[0m\u001b[0;34m)\u001b[0m\u001b[0;34m\u001b[0m\u001b[0;34m\u001b[0m\u001b[0m\n\u001b[0;32m----> 3\u001b[0;31m     \u001b[0mhandle_batch\u001b[0m\u001b[0;34m(\u001b[0m\u001b[0mbatch\u001b[0m\u001b[0;34m[\u001b[0m\u001b[0;34m'x'\u001b[0m\u001b[0;34m]\u001b[0m\u001b[0;34m,\u001b[0m \u001b[0mbatch\u001b[0m\u001b[0;34m[\u001b[0m\u001b[0;34m'y'\u001b[0m\u001b[0;34m]\u001b[0m\u001b[0;34m,\u001b[0m \u001b[0mbatch\u001b[0m\u001b[0;34m[\u001b[0m\u001b[0;34m'is_real_track'\u001b[0m\u001b[0;34m]\u001b[0m\u001b[0;34m,\u001b[0m \u001b[0mlast_station_hits_torch\u001b[0m\u001b[0;34m)\u001b[0m\u001b[0;34m\u001b[0m\u001b[0;34m\u001b[0m\u001b[0m\n\u001b[0m\u001b[1;32m      4\u001b[0m     \u001b[0;32mbreak\u001b[0m\u001b[0;34m\u001b[0m\u001b[0;34m\u001b[0m\u001b[0m\n",
      "\u001b[0;32m<ipython-input-21-401dc568e55f>\u001b[0m in \u001b[0;36mhandle_batch\u001b[0;34m(batch_input, batch_target, batch_real_flag, all_last_y)\u001b[0m\n\u001b[1;32m     14\u001b[0m         \u001b[0mtest_pred\u001b[0m \u001b[0;34m=\u001b[0m \u001b[0mmodel\u001b[0m\u001b[0;34m(\u001b[0m\u001b[0minputs\u001b[0m\u001b[0;34m=\u001b[0m\u001b[0mbatch_input\u001b[0m\u001b[0;34m[\u001b[0m\u001b[0;34m'inputs'\u001b[0m\u001b[0;34m]\u001b[0m\u001b[0;34m,\u001b[0m \u001b[0minput_lengths\u001b[0m\u001b[0;34m=\u001b[0m\u001b[0mbatch_input\u001b[0m\u001b[0;34m[\u001b[0m\u001b[0;34m'input_lengths'\u001b[0m\u001b[0;34m]\u001b[0m\u001b[0;34m)\u001b[0m\u001b[0;34m\u001b[0m\u001b[0;34m\u001b[0m\u001b[0m\n\u001b[1;32m     15\u001b[0m         \u001b[0mnum_real_tracks\u001b[0m \u001b[0;34m=\u001b[0m \u001b[0mbatch_real_flag\u001b[0m\u001b[0;34m.\u001b[0m\u001b[0msum\u001b[0m\u001b[0;34m(\u001b[0m\u001b[0;34m)\u001b[0m\u001b[0;34m\u001b[0m\u001b[0;34m\u001b[0m\u001b[0m\n\u001b[0;32m---> 16\u001b[0;31m         \u001b[0mnearest_points\u001b[0m \u001b[0;34m=\u001b[0m \u001b[0mfind_nearest_hit\u001b[0m\u001b[0;34m(\u001b[0m\u001b[0mtest_pred\u001b[0m\u001b[0;34m,\u001b[0m \u001b[0mall_last_y\u001b[0m\u001b[0;34m)\u001b[0m\u001b[0;34m\u001b[0m\u001b[0;34m\u001b[0m\u001b[0m\n\u001b[0m\u001b[1;32m     17\u001b[0m         \u001b[0mtest_pred\u001b[0m\u001b[0;34m,\u001b[0m \u001b[0mtest_target\u001b[0m \u001b[0;34m=\u001b[0m \u001b[0mzip\u001b[0m\u001b[0;34m(\u001b[0m\u001b[0;34m*\u001b[0m\u001b[0mtest_outputs\u001b[0m\u001b[0;34m)\u001b[0m\u001b[0;34m\u001b[0m\u001b[0;34m\u001b[0m\u001b[0m\n\u001b[1;32m     18\u001b[0m         \u001b[0mtest_pred\u001b[0m \u001b[0;34m=\u001b[0m \u001b[0mnp\u001b[0m\u001b[0;34m.\u001b[0m\u001b[0mconcatenate\u001b[0m\u001b[0;34m(\u001b[0m\u001b[0mtest_pred\u001b[0m\u001b[0;34m)\u001b[0m\u001b[0;34m\u001b[0m\u001b[0;34m\u001b[0m\u001b[0m\n",
      "\u001b[0;32m<ipython-input-21-401dc568e55f>\u001b[0m in \u001b[0;36mfind_nearest_hit\u001b[0;34m(hits, ellipses)\u001b[0m\n\u001b[1;32m      4\u001b[0m     \u001b[0mcenters\u001b[0m \u001b[0;34m=\u001b[0m \u001b[0mellipses\u001b[0m\u001b[0;34m[\u001b[0m\u001b[0;34m:\u001b[0m\u001b[0;34m,\u001b[0m\u001b[0;34m:\u001b[0m\u001b[0;36m2\u001b[0m\u001b[0;34m]\u001b[0m\u001b[0;34m.\u001b[0m\u001b[0munsqueeze\u001b[0m\u001b[0;34m(\u001b[0m\u001b[0;36m1\u001b[0m\u001b[0;34m)\u001b[0m\u001b[0;34m\u001b[0m\u001b[0;34m\u001b[0m\u001b[0m\n\u001b[1;32m      5\u001b[0m     \u001b[0mprint\u001b[0m\u001b[0;34m(\u001b[0m\u001b[0mcenters\u001b[0m\u001b[0;34m)\u001b[0m\u001b[0;34m\u001b[0m\u001b[0;34m\u001b[0m\u001b[0m\n\u001b[0;32m----> 6\u001b[0;31m     \u001b[0mdists\u001b[0m \u001b[0;34m=\u001b[0m \u001b[0mtorch\u001b[0m\u001b[0;34m.\u001b[0m\u001b[0mcdist\u001b[0m\u001b[0;34m(\u001b[0m\u001b[0mhits\u001b[0m\u001b[0;34m,\u001b[0m \u001b[0mcenters\u001b[0m\u001b[0;34m)\u001b[0m\u001b[0;34m\u001b[0m\u001b[0;34m\u001b[0m\u001b[0m\n\u001b[0m\u001b[1;32m      7\u001b[0m     \u001b[0mprint\u001b[0m\u001b[0;34m(\u001b[0m\u001b[0mdists\u001b[0m\u001b[0;34m.\u001b[0m\u001b[0mshape\u001b[0m\u001b[0;34m)\u001b[0m\u001b[0;34m\u001b[0m\u001b[0;34m\u001b[0m\u001b[0m\n\u001b[1;32m      8\u001b[0m     \u001b[0mminimal\u001b[0m \u001b[0;34m=\u001b[0m \u001b[0mhits\u001b[0m\u001b[0;34m[\u001b[0m\u001b[0mtorch\u001b[0m\u001b[0;34m.\u001b[0m\u001b[0margmin\u001b[0m\u001b[0;34m(\u001b[0m\u001b[0mdists\u001b[0m\u001b[0;34m,\u001b[0m \u001b[0mdim\u001b[0m\u001b[0;34m=\u001b[0m\u001b[0;36m1\u001b[0m\u001b[0;34m)\u001b[0m\u001b[0;34m]\u001b[0m\u001b[0;34m\u001b[0m\u001b[0;34m\u001b[0m\u001b[0m\n",
      "\u001b[0;32m~/.local/lib/python3.7/site-packages/torch/functional.py\u001b[0m in \u001b[0;36mcdist\u001b[0;34m(x1, x2, p, compute_mode)\u001b[0m\n\u001b[1;32m    730\u001b[0m                 cdist, (x1, x2), x1, x2, p=p, compute_mode=compute_mode)\n\u001b[1;32m    731\u001b[0m     \u001b[0;32mif\u001b[0m \u001b[0mcompute_mode\u001b[0m \u001b[0;34m==\u001b[0m \u001b[0;34m'use_mm_for_euclid_dist_if_necessary'\u001b[0m\u001b[0;34m:\u001b[0m\u001b[0;34m\u001b[0m\u001b[0;34m\u001b[0m\u001b[0m\n\u001b[0;32m--> 732\u001b[0;31m         \u001b[0;32mreturn\u001b[0m \u001b[0m_VF\u001b[0m\u001b[0;34m.\u001b[0m\u001b[0mcdist\u001b[0m\u001b[0;34m(\u001b[0m\u001b[0mx1\u001b[0m\u001b[0;34m,\u001b[0m \u001b[0mx2\u001b[0m\u001b[0;34m,\u001b[0m \u001b[0mp\u001b[0m\u001b[0;34m,\u001b[0m \u001b[0;32mNone\u001b[0m\u001b[0;34m)\u001b[0m\u001b[0;34m\u001b[0m\u001b[0;34m\u001b[0m\u001b[0m\n\u001b[0m\u001b[1;32m    733\u001b[0m     \u001b[0;32melif\u001b[0m \u001b[0mcompute_mode\u001b[0m \u001b[0;34m==\u001b[0m \u001b[0;34m'use_mm_for_euclid_dist'\u001b[0m\u001b[0;34m:\u001b[0m\u001b[0;34m\u001b[0m\u001b[0;34m\u001b[0m\u001b[0m\n\u001b[1;32m    734\u001b[0m         \u001b[0;32mreturn\u001b[0m \u001b[0m_VF\u001b[0m\u001b[0;34m.\u001b[0m\u001b[0mcdist\u001b[0m\u001b[0;34m(\u001b[0m\u001b[0mx1\u001b[0m\u001b[0;34m,\u001b[0m \u001b[0mx2\u001b[0m\u001b[0;34m,\u001b[0m \u001b[0mp\u001b[0m\u001b[0;34m,\u001b[0m \u001b[0;36m1\u001b[0m\u001b[0;34m)\u001b[0m\u001b[0;34m\u001b[0m\u001b[0;34m\u001b[0m\u001b[0m\n",
      "\u001b[0;31mRuntimeError\u001b[0m: X1 and X2 must have the same number of columns. X1: 4 X2: 2"
     ]
    }
   ],
   "source": [
    "for batch in data_loader:\n",
    "    print(batch)\n",
    "    handle_batch(batch['x'], batch['y'], batch['is_real_track'], last_station_hits_torch)\n",
    "    break"
   ]
  },
  {
   "cell_type": "code",
   "execution_count": null,
   "metadata": {},
   "outputs": [],
   "source": [
    "all_tracks_df = pd.DataFrame(columns=['event', 'track', 'hit_0_id', 'hit_1_id', 'hit_2_id', 'px', 'py', 'pz', 'pred'])\n",
    "reco_df = all_tracks_df.copy()"
   ]
  },
  {
   "cell_type": "code",
   "execution_count": 6,
   "metadata": {},
   "outputs": [],
   "source": [
    "from copy import copy"
   ]
  },
  {
   "cell_type": "code",
   "execution_count": 40,
   "metadata": {},
   "outputs": [],
   "source": [
    "from ariadne.tracknet_v2.metrics import point_in_ellipse\n",
    "def find_nearest_hit(ellipses,hits):\n",
    "    centers = ellipses[:,:2]\n",
    "    dists = torch.cdist(hits.float(), centers.float())\n",
    "    min_argument = torch.argmin(dists, dim=0)\n",
    "    minimal = hits[torch.argmin(dists, dim=0)]\n",
    "    is_in_ellipse = point_in_ellipse(ellipses, minimal)\n",
    "    return minimal, is_in_ellipse\n",
    "\n",
    "def handle_batch(batch_input, batch_target, batch_real_flag, all_last_y):   \n",
    "    with torch.no_grad():\n",
    "        test_pred = model(inputs=batch_input['inputs'], input_lengths=batch_input['input_lengths'])\n",
    "        num_real_tracks = batch_real_flag.sum()\n",
    "        nearest_points, is_point_in_ellipse = find_nearest_hit(test_pred, all_last_y)\n",
    "        is_prediction_true = (batch_target == nearest_points)\n",
    "        is_prediction_true = is_prediction_true.sum(axis=1) / 2\n",
    "        found_points = nearest_points[(is_point_in_ellipse) & (batch_real_flag == 1)]\n",
    "        found_nothing = nearest_points[(~is_point_in_ellipse) & (batch_real_flag == 1)]\n",
    "        num_points_for_real_tracks = len(found_points)\n",
    "        num_fales_for_real_tracks = len(found_nothing)\n",
    "        is_relevant_prediction_true = is_prediction_true[(batch_real_flag == 1) & (is_point_in_ellipse)]\n",
    "        print(is_relevant_prediction_true)\n",
    "        if num_real_tracks > 0:\n",
    "            batch_recall = is_relevant_prediction_true.sum() / float(num_real_tracks)\n",
    "            batch_precision = is_relevant_prediction_true.sum() / float(num_points_for_real_tracks)\n",
    "            batch_fale_rate = num_fales_for_real_tracks / float(num_real_tracks)\n",
    "            print(batch_recall, batch_precision, batch_fale_rate )\n",
    "            return batch_recall, batch_precision, batch_fale_rate\n",
    "        else:\n",
    "            return -1,-1,-1\n",
    "            \n",
    "def handle_batch_to_df(orig_batch, all_last_y):   \n",
    "    with torch.no_grad():\n",
    "        temp_dict = {}\n",
    "        batch = copy(orig_batch)\n",
    "        temp_df = pd.DataFrame(columns=['found_nothing', 'found_right_point','is_real_track', 'px','py','pz','p'])\n",
    "        batch_input = batch['x']\n",
    "        batch_real_flag = batch['is_real_track']\n",
    "        batch_target = batch['y']\n",
    "        test_pred = model(inputs=batch_input['inputs'], input_lengths=batch_input['input_lengths'])\n",
    "        num_real_tracks = batch_real_flag.sum()\n",
    "        nearest_points, is_point_in_ellipse = find_nearest_hit(test_pred, all_last_y)\n",
    "        is_prediction_true = (batch_target == nearest_points)\n",
    "        is_prediction_true = is_prediction_true.sum(axis=1) / 2\n",
    "        found_points = (is_point_in_ellipse) & (batch_real_flag == 1)\n",
    "        found_nothing = (~is_point_in_ellipse) & (batch_real_flag == 1)\n",
    "        found_right_points = found_points & is_prediction_true.bool()\n",
    "        num_points_for_real_tracks = found_points.sum()\n",
    "        num_fales_for_real_tracks = found_nothing.sum()\n",
    "        temp_dict['px'] = batch['moment'][:, 0].detach().cpu().numpy()\n",
    "        temp_dict['py'] = batch['moment'][:, 1].detach().cpu().numpy()\n",
    "        temp_dict['pz'] = batch['moment'][:, 2].detach().cpu().numpy()\n",
    "        temp_dict['p'] = torch.norm(batch['moment'], dim=1).detach().cpu().numpy()\n",
    "        temp_dict['found_nothing'] = found_nothing.detach().cpu().numpy()\n",
    "        temp_dict['found_right_point'] = found_right_points.detach().cpu().numpy()\n",
    "        temp_dict['is_real_track'] = batch_real_flag.detach().cpu().numpy()\n",
    "        temp_df = pd.DataFrame(temp_dict)\n",
    "        return temp_df\n",
    "        "
   ]
  },
  {
   "cell_type": "code",
   "execution_count": 41,
   "metadata": {},
   "outputs": [],
   "source": [
    "recalls = []\n",
    "precisions = []\n",
    "fale_rates = []\n",
    "result_df = pd.DataFrame(columns=['found_nothing', 'found_right_point','is_real_track', 'px','py','pz','p'])\n",
    "for batch in data_loader:\n",
    "    df = handle_batch_to_df(batch, last_station_hits_torch)\n",
    "    #print(df.head())\n",
    "    result_df = pd.concat([result_df,df], axis=0)\n",
    "    #print(result_df.shape)"
   ]
  },
  {
   "cell_type": "code",
   "execution_count": 42,
   "metadata": {},
   "outputs": [],
   "source": [
    "real_tracks = copy(result_df.loc[result_df['is_real_track']==1, ])"
   ]
  },
  {
   "cell_type": "code",
   "execution_count": 43,
   "metadata": {},
   "outputs": [],
   "source": [
    "recall = real_tracks['found_right_point'].sum() / float(len(real_tracks))\n",
    "precision = real_tracks['found_right_point'].sum() / float(len(real_tracks) - real_tracks['found_nothing'].sum())\n",
    "fale_rate = (len(real_tracks['found_right_point']) - real_tracks['found_right_point'].sum()) / float(len(real_tracks))"
   ]
  },
  {
   "cell_type": "code",
   "execution_count": 44,
   "metadata": {},
   "outputs": [
    {
     "name": "stdout",
     "output_type": "stream",
     "text": [
      "Test set results:\n",
      "Precision: 0.0003\n",
      "Recall:    0.0002\n",
      "Fale rate:    0.9998\n"
     ]
    }
   ],
   "source": [
    "print('Test set results:')\n",
    "#print('Accuracy:  %.4f' % sklearn.metrics.accuracy_score(y_true, y_pred))\n",
    "print('Precision: %.4f' % precision)\n",
    "print('Recall:    %.4f' % recall)\n",
    "print('Fale rate:    %.4f' % fale_rate)"
   ]
  },
  {
   "cell_type": "code",
   "execution_count": 15,
   "metadata": {},
   "outputs": [
    {
     "data": {
      "text/plain": [
       "3110"
      ]
     },
     "execution_count": 15,
     "metadata": {},
     "output_type": "execute_result"
    }
   ],
   "source": [
    "result_df.loc[result_df['is_real_track']==1,].found_right_point.sum()"
   ]
  },
  {
   "cell_type": "code",
   "execution_count": 48,
   "metadata": {},
   "outputs": [],
   "source": [
    "# shortcut\n",
    "from numpy import linalg as LA\n",
    "\n",
    "result_df['pt'] = LA.norm(result_df[['px','py']].values, axis=1)\n",
    "result_df['cos_t'] = (result_df[['pz']].values/ LA.norm(result_df[['px','py','pz']].values, axis=1, keepdims=True))\n",
    "result_df['a_phi'] = np.arctan2(result_df[['px']].values, result_df[['py']].values)"
   ]
  },
  {
   "cell_type": "code",
   "execution_count": null,
   "metadata": {},
   "outputs": [],
   "source": []
  },
  {
   "cell_type": "code",
   "execution_count": 49,
   "metadata": {},
   "outputs": [],
   "source": [
    "def get_diagram_arr_linspace(all_real_hits, found_hits, start, end, num, col):\n",
    "    spac = np.linspace(start, end, num=num)\n",
    "    \n",
    "    arr = []\n",
    "    \n",
    "    for i in range(len(spac)-1):\n",
    "        beg = spac[i]\n",
    "        end = spac[i+1]\n",
    "        elems_real = all_real_hits[(all_real_hits[col] > beg) &(all_real_hits[col] < end)]\n",
    "        elems_pred = found_hits[(found_hits[col] > beg) &(found_hits[col] < end)]\n",
    "        if elems_real.empty:\n",
    "            arr.append(np.NaN)\n",
    "            continue\n",
    "        arr.append(len(elems_pred) / len(elems_real))\n",
    "    \n",
    "    return arr, spac[:-1]"
   ]
  },
  {
   "cell_type": "code",
   "execution_count": 50,
   "metadata": {},
   "outputs": [],
   "source": [
    "from scipy.interpolate import make_interp_spline, BSpline\n",
    "\n",
    "\n",
    "def draw_for_col(tracks_real, tracks_pred_true,\n",
    "                 col, col_pretty, total_events, n_ticks=150, save_disk=True):\n",
    "    \n",
    "    start = tracks_real[tracks_real[col] > -np.inf][col].min()\n",
    "    end = tracks_real[tracks_real[col] < np.inf][col].max()\n",
    "\n",
    "    initial, spac = get_diagram_arr_linspace(tracks_real, tracks_pred_true, start, end, n_ticks, col)\n",
    "    \n",
    "    # mean line\n",
    "    # find number of ticks until no nans present\n",
    "    second = np.array([np.nan])\n",
    "    count_start = n_ticks // 5\n",
    "    while np.isnan(second).any():\n",
    "        second, spac2 = get_diagram_arr_linspace(tracks_real, tracks_pred_true, start, end, count_start, col)\n",
    "        count_start = count_start - count_start // 2\n",
    "\n",
    "    xnew = np.linspace(spac2.min(), spac2.max(), count_start) \n",
    "    \n",
    "    spl = make_interp_spline(spac2, second, k=3)  # type: BSpline\n",
    "    power_smooth = spl(xnew)\n",
    "    \n",
    "    \n",
    "    maxX = end\n",
    "    plt.figure(figsize=(8,7))\n",
    "    \n",
    "    plt.subplot(111)\n",
    "    plt.ylabel('Track efficiency', fontsize=12)\n",
    "    plt.xlabel(col_pretty, fontsize=12)\n",
    "    #plt.axis([0, maxX, 0, 1.005])\n",
    "    plt.plot(spac, initial, alpha=0.8, lw=0.8)\n",
    "    plt.title('TrackNetV2 track efficiency vs impulse (%d events)' % total_events, fontsize=14)\n",
    "    plt.plot(xnew, power_smooth, ls='--', label='mean', lw=2.5)\n",
    "    plt.xticks(np.linspace(start, maxX, 8))\n",
    "    plt.yticks(np.linspace(0, 1, 9))\n",
    "    plt.legend(loc=0)\n",
    "    plt.grid()\n",
    "    plt.tight_layout()\n",
    "    plt.rcParams['savefig.facecolor']='white'\n",
    "    os.makedirs('../output', exist_ok=True)\n",
    "    plt.savefig('../output/img_track_eff_%s_ev%r_t%d.png'%(col, total_events, n_ticks), dpi=300)\n",
    "    plt.show()\n",
    "\n",
    "#from scipy.interpolate import make_interp_spline, BSpline\n",
    "#second, spac2 = get_diagram_arr_linspace(tracks_real, tracks_pred_true, start, end, 25, 'pt')\n",
    "#\n",
    "#xnew = np.linspace(spac2.min(), spac2.max(), 30) \n",
    "#\n",
    "#spl = make_interp_spline(spac2, second, k=3)  # type: BSpline\n",
    "#power_smooth = spl(xnew)"
   ]
  },
  {
   "cell_type": "code",
   "execution_count": 51,
   "metadata": {},
   "outputs": [
    {
     "data": {
      "image/png": "[encoded data removed]",
      "text/plain": [
       "<Figure size 576x504 with 1 Axes>"
      ]
     },
     "metadata": {
      "needs_background": "light"
     },
     "output_type": "display_data"
    }
   ],
   "source": [
    "true_tracks_result_df = result_df[result_df.is_real_track == 1]\n",
    "tracks_pred_true = true_tracks_result_df[true_tracks_result_df.found_right_point]\n",
    "tracks_real = true_tracks_result_df[(true_tracks_result_df.found_right_point == False)  | (true_tracks_result_df.found_nothing==True)]\n",
    "draw_for_col(true_tracks_result_df, tracks_pred_true, 'pt', '$pt$', 875, 175)"
   ]
  },
  {
   "cell_type": "code",
   "execution_count": 52,
   "metadata": {},
   "outputs": [
    {
     "data": {
      "image/png": "[encoded data removed]",
      "text/plain": [
       "<Figure size 576x504 with 1 Axes>"
      ]
     },
     "metadata": {
      "needs_background": "light"
     },
     "output_type": "display_data"
    }
   ],
   "source": [
    "draw_for_col(true_tracks_result_df, tracks_pred_true, 'a_phi', '$a_\\phi$',875,175)"
   ]
  },
  {
   "cell_type": "code",
   "execution_count": 53,
   "metadata": {},
   "outputs": [
    {
     "data": {
      "image/png": "[encoded data removed]",
      "text/plain": [
       "<Figure size 576x504 with 1 Axes>"
      ]
     },
     "metadata": {
      "needs_background": "light"
     },
     "output_type": "display_data"
    }
   ],
   "source": [
    "draw_for_col(true_tracks_result_df, tracks_pred_true, 'cos_t', '$cos_t$',875,175)"
   ]
  },
  {
   "cell_type": "code",
   "execution_count": null,
   "metadata": {},
   "outputs": [],
   "source": []
  },
  {
   "cell_type": "code",
   "execution_count": null,
   "metadata": {},
   "outputs": [],
   "source": []
  }
 ],
 "metadata": {
  "kernelspec": {
   "display_name": "Python 3",
   "language": "python",
   "name": "python3"
  },
  "language_info": {
   "codemirror_mode": {
    "name": "ipython",
    "version": 3
   },
   "file_extension": ".py",
   "mimetype": "text/x-python",
   "name": "python",
   "nbconvert_exporter": "python",
   "pygments_lexer": "ipython3",
   "version": "3.7.8"
  }
 },
 "nbformat": 4,
 "nbformat_minor": 4
}

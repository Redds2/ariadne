{
 "cells": [
  {
   "cell_type": "code",
   "execution_count": 1,
   "metadata": {},
   "outputs": [
    {
     "name": "stderr",
     "output_type": "stream",
     "text": [
      "C:\\Miniconda3\\envs\\ariadne_gpu\\lib\\site-packages\\pytorch_lightning\\utilities\\distributed.py:37: UserWarning: Unsupported `ReduceOp` for distributed computing.\n",
      "  warnings.warn(*args, **kwargs)\n"
     ]
    }
   ],
   "source": [
    "import os\n",
    "import sys\n",
    "import gin\n",
    "import numpy as np\n",
    "import pandas as pd\n",
    "from IPython.core.display import clear_output, display\n",
    "from ariadne.graph_net.graph_utils.graph_prepare_utils import to_pandas_graph_from_df, get_pd_line_graph, \\\n",
    "    apply_nodes_restrictions, apply_edge_restriction, construct_output_graph\n",
    "from ariadne.transformations import Compose, ConstraintsNormalize, ToCylindrical\n",
    "module_path = os.path.abspath(os.path.join('..'))\n",
    "if module_path not in sys.path:\n",
    "    sys.path.append(module_path)\n",
    "\n",
    "import matplotlib.pyplot as plt\n",
    "\n",
    "%matplotlib inline\n",
    "%load_ext autoreload\n",
    "\n",
    "%autoreload 2"
   ]
  },
  {
   "cell_type": "code",
   "execution_count": 11,
   "metadata": {},
   "outputs": [],
   "source": [
    "from matplotlib import collections  as mc\n",
    "\n",
    "\n",
    "\n",
    "def visualize_2d_points_from_out( x, y, col, show=False, ax_in=None):    \n",
    "    if ax_in is None:\n",
    "        fig, ax = plt.subplots(figsize=(8, 6))\n",
    "    else:\n",
    "        ax = ax_in\n",
    "    ax.scatter(x, y, c=col)\n",
    "    if show:\n",
    "        plt.tight_layout()\n",
    "        plt.show()\n",
    "        return\n",
    "    return ax"
   ]
  },
  {
   "cell_type": "code",
   "execution_count": 18,
   "metadata": {},
   "outputs": [
    {
     "data": {
      "text/plain": [
       "Points(X=array([[ 0.48952582,  0.48952582,  0.4895258 ,  0.4895258 ,  0.4895258 ,\n",
       "         0.4895258 ,  0.4895258 ,  0.4895258 ,  0.4895258 ,  0.4895258 ,\n",
       "         0.4895258 ,  0.4895258 ,  0.4895258 ,  0.48952585,  0.48952585,\n",
       "         0.4895258 ,  0.4895258 ,  0.75663286,  0.75663286,  0.75663286,\n",
       "         0.75663286,  0.7566327 ,  0.7566327 ,  0.7566327 ,  0.7566327 ,\n",
       "         0.7566329 ,  0.7566329 ,  0.7566329 ,  0.7566329 ,  0.75663275,\n",
       "         0.7566327 ,  0.7566327 ,  0.7566327 ,  0.7566327 ,  0.7566326 ,\n",
       "         0.7566326 ,  0.7566326 ,  0.7566326 ,  0.9997297 ,  0.9997297 ,\n",
       "         0.9997297 ,  0.9997297 ,  0.99972993,  0.99972993,  0.99972993,\n",
       "         0.99972993,  0.9997299 ,  0.9997299 ,  0.9997299 ,  0.9997299 ,\n",
       "         0.9997298 ,  0.9997298 ,  0.9997298 ,  0.9997298 ,  0.9997298 ,\n",
       "         0.9997298 ,  0.9997298 ,  0.9997298 ,  0.9997298 ,  0.4895258 ,\n",
       "         0.7566329 ,  0.9997299 ,  0.4895258 ,  0.75663275,  0.9997298 ,\n",
       "         0.4895258 ,  0.7566327 ,  0.99972993,  0.4895258 ,  0.7566326 ,\n",
       "         0.9997298 ,  0.48952582,  0.75663286,  0.9997297 ,  0.48952585,\n",
       "         0.7566327 ,  0.9997298 ],\n",
       "       [ 0.04421458,  0.04421458,  0.2943762 ,  0.2943762 ,  0.2943762 ,\n",
       "         0.39793143,  0.39793143,  0.39793143,  0.39793143,  0.8214608 ,\n",
       "         0.8214608 ,  0.8214608 ,  0.8214608 , -0.75268275, -0.75268275,\n",
       "        -0.71544945, -0.71544945,  0.05455606,  0.05455606,  0.05455606,\n",
       "         0.05455606,  0.3172046 ,  0.3172046 ,  0.3172046 ,  0.3172046 ,\n",
       "         0.4060531 ,  0.4060531 ,  0.4060531 ,  0.4060531 ,  0.8308111 ,\n",
       "        -0.76930577, -0.76930577, -0.76930577, -0.76930577, -0.73189586,\n",
       "        -0.73189586, -0.73189586, -0.73189586,  0.06172683,  0.06172683,\n",
       "         0.06172683,  0.06172683,  0.3302085 ,  0.3302085 ,  0.3302085 ,\n",
       "         0.3302085 ,  0.40811613,  0.40811613,  0.40811613,  0.40811613,\n",
       "         0.83840597, -0.7806601 , -0.7806601 , -0.7806601 , -0.7806601 ,\n",
       "        -0.74110705, -0.74110705, -0.74110705, -0.74110705,  0.39793143,\n",
       "         0.4060531 ,  0.40811613,  0.8214608 ,  0.8308111 ,  0.83840597,\n",
       "         0.2943762 ,  0.3172046 ,  0.3302085 , -0.71544945, -0.73189586,\n",
       "        -0.74110705,  0.04421458,  0.05455606,  0.06172683, -0.75268275,\n",
       "        -0.76930577, -0.7806601 ],\n",
       "       [-0.07765433,  0.13897322, -0.10893155, -0.03861266,  0.5829157 ,\n",
       "        -0.32875255, -0.18244383,  0.5094033 ,  0.6126132 , -0.48310083,\n",
       "        -0.41278204,  0.2087463 ,  0.4457889 ,  0.00964732,  0.14348005,\n",
       "        -0.11999405, -0.01678406,  0.02585259,  0.14484815,  0.4037393 ,\n",
       "         0.52894783, -0.33246258, -0.2902869 , -0.03139563,  0.09381268,\n",
       "        -0.5564796 , -0.4796595 , -0.43748382, -0.05338432, -0.7570895 ,\n",
       "        -0.26595914, -0.18913913,  0.11192777,  0.237136  , -0.3279367 ,\n",
       "        -0.25111687, -0.20894118,  0.04995008, -0.01475041,  0.11956871,\n",
       "         0.45393765,  0.61969304, -0.41802078, -0.4023027 , -0.083652  ,\n",
       "         0.08210352, -0.70833695, -0.57401794, -0.55829966, -0.07389346,\n",
       "        -0.9354767 , -0.33034426, -0.18030697,  0.1383437 ,  0.30409917,\n",
       "        -0.40954286, -0.2752236 , -0.25950554,  0.05914524, -0.11212493,\n",
       "        -0.17859265, -0.23964888,  0.31195632,  0.45847273,  0.592046  ,\n",
       "        -0.25524014, -0.40928242, -0.55234003,  0.11704867,  0.17515841,\n",
       "         0.22490075,  0.06865434,  0.10267252,  0.13528691, -0.09356267,\n",
       "        -0.14696348, -0.19602518]], dtype=float32), track=array([0., 0., 0., 0., 0., 0., 0., 0., 0., 0., 0., 0., 0., 0., 0., 0., 0.,\n",
       "       0., 0., 0., 0., 0., 0., 0., 0., 0., 0., 0., 0., 0., 0., 0., 0., 0.,\n",
       "       0., 0., 0., 0., 0., 0., 0., 0., 0., 0., 0., 0., 0., 0., 0., 0., 0.,\n",
       "       0., 0., 0., 0., 0., 0., 0., 0., 1., 1., 1., 1., 1., 1., 1., 1., 1.,\n",
       "       1., 1., 1., 1., 1., 1., 1., 1., 1.], dtype=float32))"
      ]
     },
     "execution_count": 18,
     "metadata": {},
     "output_type": "execute_result"
    }
   ],
   "source": [
    "from ariadne.point_net.point.points import load_points\n",
    "event = load_points(\"../output/cgem_points_test/points_3.txt_1.npz\")\n",
    "event"
   ]
  },
  {
   "cell_type": "code",
   "execution_count": 23,
   "metadata": {},
   "outputs": [
    {
     "data": {
      "text/plain": [
       "array([0.4895258 , 0.7566329 , 0.9997299 , 0.4895258 , 0.75663275,\n",
       "       0.9997298 , 0.4895258 , 0.7566327 , 0.99972993, 0.4895258 ,\n",
       "       0.7566326 , 0.9997298 , 0.48952582, 0.75663286, 0.9997297 ,\n",
       "       0.48952585, 0.7566327 , 0.9997298 ], dtype=float32)"
      ]
     },
     "execution_count": 23,
     "metadata": {},
     "output_type": "execute_result"
    }
   ],
   "source": [
    "X, track = event\n",
    "true_points = X[:, track == 1]\n",
    "false_points = X[:, track != 1]\n"
   ]
  },
  {
   "cell_type": "code",
   "execution_count": 28,
   "metadata": {},
   "outputs": [
    {
     "data": {
      "image/png": "[encoded data removed]",
      "text/plain": [
       "<Figure size 576x432 with 1 Axes>"
      ]
     },
     "metadata": {
      "needs_background": "light"
     },
     "output_type": "display_data"
    }
   ],
   "source": [
    "ax = visualize_2d_points_from_out(true_points[2],true_points[0], 'tab:green')\n",
    "visualize_2d_points_from_out(false_points[2],false_points[0], 'tab:gray', show=True, ax_in=ax)"
   ]
  }
 ],
 "metadata": {
  "kernelspec": {
   "display_name": "Python 3",
   "language": "python",
   "name": "python3"
  },
  "language_info": {
   "codemirror_mode": {
    "name": "ipython",
    "version": 3
   },
   "file_extension": ".py",
   "mimetype": "text/x-python",
   "name": "python",
   "nbconvert_exporter": "python",
   "pygments_lexer": "ipython3",
   "version": "3.7.8"
  }
 },
 "nbformat": 4,
 "nbformat_minor": 1
}

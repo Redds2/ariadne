{
 "cells": [
  {
   "cell_type": "code",
   "execution_count": 1,
   "metadata": {
    "collapsed": true
   },
   "outputs": [],
   "source": [
    "import os\n",
    "import sys\n",
    "import gin\n",
    "import numpy as np\n",
    "import pandas as pd\n",
    "from IPython.core.display import clear_output, display\n",
    "from ariadne.graph_net.graph_utils.graph_prepare_utils import to_pandas_graph_from_df, get_pd_line_graph, \\\n",
    "    apply_nodes_restrictions, apply_edge_restriction, construct_output_graph\n",
    "from ariadne.transformations import Compose, ConstraintsNormalize, ToCylindrical\n",
    "module_path = os.path.abspath(os.path.join('..'))\n",
    "if module_path not in sys.path:\n",
    "    sys.path.append(module_path)\n",
    "\n",
    "import matplotlib.pyplot as plt\n",
    "\n",
    "%matplotlib inline\n",
    "%load_ext autoreload\n",
    "\n",
    "%autoreload 2"
   ]
  },
  {
   "cell_type": "code",
   "execution_count": 2,
   "outputs": [],
   "source": [
    "from prepare import parse\n",
    "\n",
    "csv_params = {\n",
    "\"sep\": '\\s+',\n",
    "\"nrows\": 15000,\n",
    "\"encoding\": 'utf-8',\n",
    "\"names\": ['event',  'x', 'y', 'z', 'station', 'track', 'px', 'py', 'pz', 'X0', 'Y0', 'Z0']\n",
    "}\n",
    "suff_df = ('_p', '_c')\n",
    "gin.bind_parameter('get_pd_line_graph.restrictions_0',(-0.2, 0.2))\n",
    "gin.bind_parameter('get_pd_line_graph.restrictions_1', (-0.28, 0.28))\n",
    "gin.bind_parameter('get_pd_line_graph.suffix_c', '_c')\n",
    "gin.bind_parameter('get_pd_line_graph.suffix_p','_p')\n",
    "gin.bind_parameter('get_supernodes_df.suffix_c', '_c')\n",
    "gin.bind_parameter('get_supernodes_df.suffix_p', '_p')\n",
    "gin.bind_parameter('get_supernodes_df.axes', ['r', 'phi', 'z'])\n",
    "gin.bind_parameter('apply_edge_restriction.edge_restriction', 0.093)\n",
    "stations_constraints = {\n",
    "    0: {'x': [-166.6, 166.6], 'y': [-166.6, 166.6], 'z': [-423.5, 423.5]},\n",
    "    1: {'x': [-166.6, 166.6], 'y': [-166.6, 166.6], 'z': [-423.5, 423.5]},\n",
    "    2: {'x': [-166.6, 166.6], 'y': [-166.6, 166.6], 'z': [-423.5, 423.5]},\n",
    "}"
   ],
   "metadata": {
    "collapsed": false,
    "pycharm": {
     "name": "#%%\n"
    }
   }
  },
  {
   "cell_type": "code",
   "execution_count": 3,
   "outputs": [],
   "source": [
    "ev_count = 1\n",
    "\n",
    "events_count_str = f\"0..{ev_count}\"\n",
    "\n",
    "events = parse(\"../data/new_data/1.txt\",\n",
    "               csv_params=csv_params, events_quantity=events_count_str,\n",
    "               filter_mask=lambda df: df[df.track >= -1])\n",
    "events = next(events)[0]\n",
    "n_events = ev_count\n",
    "events_to_analyze = events[events.event < n_events]\n",
    "\n"
   ],
   "metadata": {
    "collapsed": false,
    "pycharm": {
     "name": "#%%\n"
    }
   }
  },
  {
   "cell_type": "code",
   "execution_count": 4,
   "outputs": [
    {
     "data": {
      "text/plain": "    event          x           y          z  station  track        px  \\\n0       0  -81.47063    3.708617 -117.40020        0     -1  0.000000   \n1       0  -81.47063    3.708617   53.01124        0     -1  0.000000   \n2       0  -28.08190  -76.567780 -238.43200        0     -1  0.000000   \n3       0  -28.08190  -76.567780   28.04412        0     -1  0.000000   \n4       0  -28.08190  -76.567780  156.29050        0     -1  0.000000   \n5       0   70.97662  -40.168860 -202.69470        0     -1  0.000000   \n6       0   70.97662  -40.168860 -106.63000        0     -1  0.000000   \n7       0  110.05800   61.458170   53.98859        1     -1  0.000000   \n8       0 -125.96900    4.654362  -79.59929        1     -1  0.000000   \n9       0  -42.52608 -118.665100   24.05098        1     -1  0.000000   \n10      0  -42.52608 -118.665100  339.81470        1     -1  0.000000   \n11      0  108.19180  -64.687000 -283.26410        1     -1  0.000000   \n12      0  108.19180  -64.687000  332.31570        1     -1  0.000000   \n13      0  155.00130   60.952130   95.64942        2     -1  0.000000   \n14      0 -166.50780    3.964072 -101.35850        2     -1  0.000000   \n15      0  -52.49823 -158.064900   16.07499        2     -1  0.000000   \n16      0  -52.49823 -158.064900  402.76620        2     -1  0.000000   \n17      0  141.41340  -87.993310 -344.23180        2     -1  0.000000   \n18      0  -28.08190  -76.567780  -68.02055        0      9 -0.075578   \n19      0  -42.52608 -118.665100 -106.23080        1      9 -0.075578   \n20      0  -52.49823 -158.064900 -140.65900        2      9 -0.075578   \n21      0   70.97662  -40.168860   21.61637        0     10  0.411495   \n22      0  108.19180  -64.687000   32.49964        1     10  0.411495   \n23      0  141.41340  -87.993310   42.45935        2     10  0.411495   \n24      0   65.55571   48.514610  117.91490        0     15  0.028179   \n25      0  110.05800   61.458170  184.27040        1     15  0.028179   \n26      0  155.00130   60.952130  252.38340        2     15  0.028179   \n27      0  -81.47063    3.708617  149.07590        0     16 -0.358887   \n28      0 -125.96900    4.654362  220.21680        1     16 -0.358887   \n29      0 -166.50780    3.964072  285.33270        2     16 -0.358887   \n\n          py        pz        X0        Y0        Z0  \n0   0.000000  0.000000  0.000000  0.000000  0.000000  \n1   0.000000  0.000000  0.000000  0.000000  0.000000  \n2   0.000000  0.000000  0.000000  0.000000  0.000000  \n3   0.000000  0.000000  0.000000  0.000000  0.000000  \n4   0.000000  0.000000  0.000000  0.000000  0.000000  \n5   0.000000  0.000000  0.000000  0.000000  0.000000  \n6   0.000000  0.000000  0.000000  0.000000  0.000000  \n7   0.000000  0.000000  0.000000  0.000000  0.000000  \n8   0.000000  0.000000  0.000000  0.000000  0.000000  \n9   0.000000  0.000000  0.000000  0.000000  0.000000  \n10  0.000000  0.000000  0.000000  0.000000  0.000000  \n11  0.000000  0.000000  0.000000  0.000000  0.000000  \n12  0.000000  0.000000  0.000000  0.000000  0.000000  \n13  0.000000  0.000000  0.000000  0.000000  0.000000  \n14  0.000000  0.000000  0.000000  0.000000  0.000000  \n15  0.000000  0.000000  0.000000  0.000000  0.000000  \n16  0.000000  0.000000  0.000000  0.000000  0.000000  \n17  0.000000  0.000000  0.000000  0.000000  0.000000  \n18 -0.122635 -0.123775  0.891188 -0.230324  0.387930  \n19 -0.122635 -0.123775  0.891188 -0.230324  0.387930  \n20 -0.122635 -0.123775  0.891188 -0.230324  0.387930  \n21 -0.240875  0.115777  0.891188 -0.230324  0.387930  \n22 -0.240875  0.115777  0.891188 -0.230324  0.387930  \n23 -0.240875  0.115777  0.891188 -0.230324  0.387930  \n24  0.039397  0.073375  0.890243 -0.229011  0.387677  \n25  0.039397  0.073375  0.890243 -0.229011  0.387677  \n26  0.039397  0.073375  0.890243 -0.229011  0.387677  \n27  0.036422  0.580369  0.890243 -0.229011  0.387677  \n28  0.036422  0.580369  0.890243 -0.229011  0.387677  \n29  0.036422  0.580369  0.890243 -0.229011  0.387677  ",
      "text/html": "<div>\n<style scoped>\n    .dataframe tbody tr th:only-of-type {\n        vertical-align: middle;\n    }\n\n    .dataframe tbody tr th {\n        vertical-align: top;\n    }\n\n    .dataframe thead th {\n        text-align: right;\n    }\n</style>\n<table border=\"1\" class=\"dataframe\">\n  <thead>\n    <tr style=\"text-align: right;\">\n      <th></th>\n      <th>event</th>\n      <th>x</th>\n      <th>y</th>\n      <th>z</th>\n      <th>station</th>\n      <th>track</th>\n      <th>px</th>\n      <th>py</th>\n      <th>pz</th>\n      <th>X0</th>\n      <th>Y0</th>\n      <th>Z0</th>\n    </tr>\n  </thead>\n  <tbody>\n    <tr>\n      <th>0</th>\n      <td>0</td>\n      <td>-81.47063</td>\n      <td>3.708617</td>\n      <td>-117.40020</td>\n      <td>0</td>\n      <td>-1</td>\n      <td>0.000000</td>\n      <td>0.000000</td>\n      <td>0.000000</td>\n      <td>0.000000</td>\n      <td>0.000000</td>\n      <td>0.000000</td>\n    </tr>\n    <tr>\n      <th>1</th>\n      <td>0</td>\n      <td>-81.47063</td>\n      <td>3.708617</td>\n      <td>53.01124</td>\n      <td>0</td>\n      <td>-1</td>\n      <td>0.000000</td>\n      <td>0.000000</td>\n      <td>0.000000</td>\n      <td>0.000000</td>\n      <td>0.000000</td>\n      <td>0.000000</td>\n    </tr>\n    <tr>\n      <th>2</th>\n      <td>0</td>\n      <td>-28.08190</td>\n      <td>-76.567780</td>\n      <td>-238.43200</td>\n      <td>0</td>\n      <td>-1</td>\n      <td>0.000000</td>\n      <td>0.000000</td>\n      <td>0.000000</td>\n      <td>0.000000</td>\n      <td>0.000000</td>\n      <td>0.000000</td>\n    </tr>\n    <tr>\n      <th>3</th>\n      <td>0</td>\n      <td>-28.08190</td>\n      <td>-76.567780</td>\n      <td>28.04412</td>\n      <td>0</td>\n      <td>-1</td>\n      <td>0.000000</td>\n      <td>0.000000</td>\n      <td>0.000000</td>\n      <td>0.000000</td>\n      <td>0.000000</td>\n      <td>0.000000</td>\n    </tr>\n    <tr>\n      <th>4</th>\n      <td>0</td>\n      <td>-28.08190</td>\n      <td>-76.567780</td>\n      <td>156.29050</td>\n      <td>0</td>\n      <td>-1</td>\n      <td>0.000000</td>\n      <td>0.000000</td>\n      <td>0.000000</td>\n      <td>0.000000</td>\n      <td>0.000000</td>\n      <td>0.000000</td>\n    </tr>\n    <tr>\n      <th>5</th>\n      <td>0</td>\n      <td>70.97662</td>\n      <td>-40.168860</td>\n      <td>-202.69470</td>\n      <td>0</td>\n      <td>-1</td>\n      <td>0.000000</td>\n      <td>0.000000</td>\n      <td>0.000000</td>\n      <td>0.000000</td>\n      <td>0.000000</td>\n      <td>0.000000</td>\n    </tr>\n    <tr>\n      <th>6</th>\n      <td>0</td>\n      <td>70.97662</td>\n      <td>-40.168860</td>\n      <td>-106.63000</td>\n      <td>0</td>\n      <td>-1</td>\n      <td>0.000000</td>\n      <td>0.000000</td>\n      <td>0.000000</td>\n      <td>0.000000</td>\n      <td>0.000000</td>\n      <td>0.000000</td>\n    </tr>\n    <tr>\n      <th>7</th>\n      <td>0</td>\n      <td>110.05800</td>\n      <td>61.458170</td>\n      <td>53.98859</td>\n      <td>1</td>\n      <td>-1</td>\n      <td>0.000000</td>\n      <td>0.000000</td>\n      <td>0.000000</td>\n      <td>0.000000</td>\n      <td>0.000000</td>\n      <td>0.000000</td>\n    </tr>\n    <tr>\n      <th>8</th>\n      <td>0</td>\n      <td>-125.96900</td>\n      <td>4.654362</td>\n      <td>-79.59929</td>\n      <td>1</td>\n      <td>-1</td>\n      <td>0.000000</td>\n      <td>0.000000</td>\n      <td>0.000000</td>\n      <td>0.000000</td>\n      <td>0.000000</td>\n      <td>0.000000</td>\n    </tr>\n    <tr>\n      <th>9</th>\n      <td>0</td>\n      <td>-42.52608</td>\n      <td>-118.665100</td>\n      <td>24.05098</td>\n      <td>1</td>\n      <td>-1</td>\n      <td>0.000000</td>\n      <td>0.000000</td>\n      <td>0.000000</td>\n      <td>0.000000</td>\n      <td>0.000000</td>\n      <td>0.000000</td>\n    </tr>\n    <tr>\n      <th>10</th>\n      <td>0</td>\n      <td>-42.52608</td>\n      <td>-118.665100</td>\n      <td>339.81470</td>\n      <td>1</td>\n      <td>-1</td>\n      <td>0.000000</td>\n      <td>0.000000</td>\n      <td>0.000000</td>\n      <td>0.000000</td>\n      <td>0.000000</td>\n      <td>0.000000</td>\n    </tr>\n    <tr>\n      <th>11</th>\n      <td>0</td>\n      <td>108.19180</td>\n      <td>-64.687000</td>\n      <td>-283.26410</td>\n      <td>1</td>\n      <td>-1</td>\n      <td>0.000000</td>\n      <td>0.000000</td>\n      <td>0.000000</td>\n      <td>0.000000</td>\n      <td>0.000000</td>\n      <td>0.000000</td>\n    </tr>\n    <tr>\n      <th>12</th>\n      <td>0</td>\n      <td>108.19180</td>\n      <td>-64.687000</td>\n      <td>332.31570</td>\n      <td>1</td>\n      <td>-1</td>\n      <td>0.000000</td>\n      <td>0.000000</td>\n      <td>0.000000</td>\n      <td>0.000000</td>\n      <td>0.000000</td>\n      <td>0.000000</td>\n    </tr>\n    <tr>\n      <th>13</th>\n      <td>0</td>\n      <td>155.00130</td>\n      <td>60.952130</td>\n      <td>95.64942</td>\n      <td>2</td>\n      <td>-1</td>\n      <td>0.000000</td>\n      <td>0.000000</td>\n      <td>0.000000</td>\n      <td>0.000000</td>\n      <td>0.000000</td>\n      <td>0.000000</td>\n    </tr>\n    <tr>\n      <th>14</th>\n      <td>0</td>\n      <td>-166.50780</td>\n      <td>3.964072</td>\n      <td>-101.35850</td>\n      <td>2</td>\n      <td>-1</td>\n      <td>0.000000</td>\n      <td>0.000000</td>\n      <td>0.000000</td>\n      <td>0.000000</td>\n      <td>0.000000</td>\n      <td>0.000000</td>\n    </tr>\n    <tr>\n      <th>15</th>\n      <td>0</td>\n      <td>-52.49823</td>\n      <td>-158.064900</td>\n      <td>16.07499</td>\n      <td>2</td>\n      <td>-1</td>\n      <td>0.000000</td>\n      <td>0.000000</td>\n      <td>0.000000</td>\n      <td>0.000000</td>\n      <td>0.000000</td>\n      <td>0.000000</td>\n    </tr>\n    <tr>\n      <th>16</th>\n      <td>0</td>\n      <td>-52.49823</td>\n      <td>-158.064900</td>\n      <td>402.76620</td>\n      <td>2</td>\n      <td>-1</td>\n      <td>0.000000</td>\n      <td>0.000000</td>\n      <td>0.000000</td>\n      <td>0.000000</td>\n      <td>0.000000</td>\n      <td>0.000000</td>\n    </tr>\n    <tr>\n      <th>17</th>\n      <td>0</td>\n      <td>141.41340</td>\n      <td>-87.993310</td>\n      <td>-344.23180</td>\n      <td>2</td>\n      <td>-1</td>\n      <td>0.000000</td>\n      <td>0.000000</td>\n      <td>0.000000</td>\n      <td>0.000000</td>\n      <td>0.000000</td>\n      <td>0.000000</td>\n    </tr>\n    <tr>\n      <th>18</th>\n      <td>0</td>\n      <td>-28.08190</td>\n      <td>-76.567780</td>\n      <td>-68.02055</td>\n      <td>0</td>\n      <td>9</td>\n      <td>-0.075578</td>\n      <td>-0.122635</td>\n      <td>-0.123775</td>\n      <td>0.891188</td>\n      <td>-0.230324</td>\n      <td>0.387930</td>\n    </tr>\n    <tr>\n      <th>19</th>\n      <td>0</td>\n      <td>-42.52608</td>\n      <td>-118.665100</td>\n      <td>-106.23080</td>\n      <td>1</td>\n      <td>9</td>\n      <td>-0.075578</td>\n      <td>-0.122635</td>\n      <td>-0.123775</td>\n      <td>0.891188</td>\n      <td>-0.230324</td>\n      <td>0.387930</td>\n    </tr>\n    <tr>\n      <th>20</th>\n      <td>0</td>\n      <td>-52.49823</td>\n      <td>-158.064900</td>\n      <td>-140.65900</td>\n      <td>2</td>\n      <td>9</td>\n      <td>-0.075578</td>\n      <td>-0.122635</td>\n      <td>-0.123775</td>\n      <td>0.891188</td>\n      <td>-0.230324</td>\n      <td>0.387930</td>\n    </tr>\n    <tr>\n      <th>21</th>\n      <td>0</td>\n      <td>70.97662</td>\n      <td>-40.168860</td>\n      <td>21.61637</td>\n      <td>0</td>\n      <td>10</td>\n      <td>0.411495</td>\n      <td>-0.240875</td>\n      <td>0.115777</td>\n      <td>0.891188</td>\n      <td>-0.230324</td>\n      <td>0.387930</td>\n    </tr>\n    <tr>\n      <th>22</th>\n      <td>0</td>\n      <td>108.19180</td>\n      <td>-64.687000</td>\n      <td>32.49964</td>\n      <td>1</td>\n      <td>10</td>\n      <td>0.411495</td>\n      <td>-0.240875</td>\n      <td>0.115777</td>\n      <td>0.891188</td>\n      <td>-0.230324</td>\n      <td>0.387930</td>\n    </tr>\n    <tr>\n      <th>23</th>\n      <td>0</td>\n      <td>141.41340</td>\n      <td>-87.993310</td>\n      <td>42.45935</td>\n      <td>2</td>\n      <td>10</td>\n      <td>0.411495</td>\n      <td>-0.240875</td>\n      <td>0.115777</td>\n      <td>0.891188</td>\n      <td>-0.230324</td>\n      <td>0.387930</td>\n    </tr>\n    <tr>\n      <th>24</th>\n      <td>0</td>\n      <td>65.55571</td>\n      <td>48.514610</td>\n      <td>117.91490</td>\n      <td>0</td>\n      <td>15</td>\n      <td>0.028179</td>\n      <td>0.039397</td>\n      <td>0.073375</td>\n      <td>0.890243</td>\n      <td>-0.229011</td>\n      <td>0.387677</td>\n    </tr>\n    <tr>\n      <th>25</th>\n      <td>0</td>\n      <td>110.05800</td>\n      <td>61.458170</td>\n      <td>184.27040</td>\n      <td>1</td>\n      <td>15</td>\n      <td>0.028179</td>\n      <td>0.039397</td>\n      <td>0.073375</td>\n      <td>0.890243</td>\n      <td>-0.229011</td>\n      <td>0.387677</td>\n    </tr>\n    <tr>\n      <th>26</th>\n      <td>0</td>\n      <td>155.00130</td>\n      <td>60.952130</td>\n      <td>252.38340</td>\n      <td>2</td>\n      <td>15</td>\n      <td>0.028179</td>\n      <td>0.039397</td>\n      <td>0.073375</td>\n      <td>0.890243</td>\n      <td>-0.229011</td>\n      <td>0.387677</td>\n    </tr>\n    <tr>\n      <th>27</th>\n      <td>0</td>\n      <td>-81.47063</td>\n      <td>3.708617</td>\n      <td>149.07590</td>\n      <td>0</td>\n      <td>16</td>\n      <td>-0.358887</td>\n      <td>0.036422</td>\n      <td>0.580369</td>\n      <td>0.890243</td>\n      <td>-0.229011</td>\n      <td>0.387677</td>\n    </tr>\n    <tr>\n      <th>28</th>\n      <td>0</td>\n      <td>-125.96900</td>\n      <td>4.654362</td>\n      <td>220.21680</td>\n      <td>1</td>\n      <td>16</td>\n      <td>-0.358887</td>\n      <td>0.036422</td>\n      <td>0.580369</td>\n      <td>0.890243</td>\n      <td>-0.229011</td>\n      <td>0.387677</td>\n    </tr>\n    <tr>\n      <th>29</th>\n      <td>0</td>\n      <td>-166.50780</td>\n      <td>3.964072</td>\n      <td>285.33270</td>\n      <td>2</td>\n      <td>16</td>\n      <td>-0.358887</td>\n      <td>0.036422</td>\n      <td>0.580369</td>\n      <td>0.890243</td>\n      <td>-0.229011</td>\n      <td>0.387677</td>\n    </tr>\n  </tbody>\n</table>\n</div>"
     },
     "execution_count": 4,
     "metadata": {},
     "output_type": "execute_result"
    }
   ],
   "source": [
    "events_to_analyze\n"
   ],
   "metadata": {
    "collapsed": false,
    "pycharm": {
     "name": "#%%\n"
    }
   }
  },
  {
   "cell_type": "code",
   "execution_count": 6,
   "outputs": [],
   "source": [
    "import torch\n",
    "from torch_geometric.data import Data"
   ],
   "metadata": {
    "collapsed": false,
    "pycharm": {
     "name": "#%%\n"
    }
   }
  },
  {
   "cell_type": "code",
   "execution_count": 7,
   "outputs": [
    {
     "data": {
      "text/plain": "'Event #000000000'"
     },
     "metadata": {},
     "output_type": "display_data"
    }
   ],
   "source": [
    "n_stations = 3\n",
    "\n",
    "for idx, event in events_to_analyze.groupby('event'):\n",
    "    clear_output(wait=True)\n",
    "    display(\"Event #%09d\" % idx)\n",
    "\n",
    "    transformer = Compose([\n",
    "            ConstraintsNormalize(\n",
    "                use_global_constraints=False,\n",
    "                constraints=stations_constraints\n",
    "            ),\n",
    "            ToCylindrical(drop_old=True, cart_columns=('y', 'x'))\n",
    "        ])\n",
    "    try:\n",
    "        event = transformer(event).reset_index()\n",
    "    except AssertionError as err:\n",
    "        print(\"ASS error %r\" % err)\n",
    "        continue\n",
    "\n",
    "    def edge_list_from_ind(ind0, ind1):\n",
    "        return np.concatenate(\n",
    "            np.dstack(\n",
    "                np.meshgrid(ind0, ind1, indexing='ij')\n",
    "            ).transpose((0,2,1)),\n",
    "            -1)\n",
    "\n",
    "    indices = [None] * n_stations\n",
    "    for station_idx, stat in event.groupby('station'):\n",
    "        indices[station_idx] = stat.index.values\n",
    "    edge_index = edge_list_from_ind(indices[0], indices[1])\n",
    "\n",
    "    for station_idx in range(2, n_stations):\n",
    "        edge_index = np.concatenate((edge_index,\n",
    "                                     edge_list_from_ind(\n",
    "                                         indices[station_idx-1],\n",
    "                                         indices[station_idx]\n",
    "                                     )), axis=1)\n",
    "    node_features = event[['r','phi','z']].values\n",
    "    y = event['track'].values\n",
    "    y[y != -1] = 1\n",
    "    y[y == -1] = 0\n",
    "    assert (len(y) == len(node_features))\n",
    "    geom_data = Data(x=torch.tensor(node_features),\n",
    "                     edge_index=torch.tensor(edge_index),\n",
    "                     y=torch.tensor(y))"
   ],
   "metadata": {
    "collapsed": false,
    "pycharm": {
     "name": "#%%\n"
    }
   }
  },
  {
   "cell_type": "code",
   "execution_count": 84,
   "outputs": [
    {
     "data": {
      "text/plain": "True"
     },
     "execution_count": 84,
     "metadata": {},
     "output_type": "execute_result"
    }
   ],
   "source": [
    "geom_data.is_directed()\n"
   ],
   "metadata": {
    "collapsed": false,
    "pycharm": {
     "name": "#%%\n"
    }
   }
  },
  {
   "cell_type": "code",
   "execution_count": 8,
   "outputs": [],
   "source": [
    "import torch.nn.functional as F\n",
    "from torch_geometric.nn import GCNConv\n",
    "\n",
    "n_features = 3\n",
    "class Net(torch.nn.Module):\n",
    "    def __init__(self):\n",
    "        super(Net, self).__init__()\n",
    "        self.conv1 = GCNConv(n_features, 128)\n",
    "        self.conv2 = GCNConv(128, 1)\n",
    "\n",
    "    def forward(self, data):\n",
    "        x, edge_index = data.x, data.edge_index\n",
    "\n",
    "        x = self.conv1(x, edge_index)\n",
    "        x = F.relu(x)\n",
    "        x = F.dropout(x, training=self.training)\n",
    "        x = self.conv2(x, edge_index)\n",
    "\n",
    "        return F.sigmoid(x)"
   ],
   "metadata": {
    "collapsed": false,
    "pycharm": {
     "name": "#%%\n"
    }
   }
  },
  {
   "cell_type": "code",
   "execution_count": 9,
   "outputs": [],
   "source": [
    "device = torch.device('cuda' if torch.cuda.is_available() else 'cpu')\n",
    "model = Net().to(device)\n",
    "geom_data.x = geom_data.x.float()\n",
    "data = geom_data.to(device)\n",
    "optimizer = torch.optim.Adam(model.parameters(), lr=0.01, weight_decay=5e-4)"
   ],
   "metadata": {
    "collapsed": false,
    "pycharm": {
     "name": "#%%\n"
    }
   }
  },
  {
   "cell_type": "code",
   "execution_count": 13,
   "outputs": [],
   "source": [
    "model.train()\n",
    "for epoch in range(1000):\n",
    "    optimizer.zero_grad()\n",
    "    out = model(data)\n",
    "    loss = F.binary_cross_entropy((out.T)[0], data.y.float())\n",
    "    loss.backward()\n",
    "    optimizer.step()\n"
   ],
   "metadata": {
    "collapsed": false,
    "pycharm": {
     "name": "#%%\n"
    }
   }
  },
  {
   "cell_type": "code",
   "execution_count": 14,
   "outputs": [
    {
     "name": "stdout",
     "output_type": "stream",
     "text": [
      "Accuracy: 0.0000\n"
     ]
    }
   ],
   "source": [
    "model.eval()\n",
    "pred = model(data)\n",
    "correct = int(pred.eq(data.y).sum().item())\n",
    "acc = correct / int(data.y.sum())\n",
    "print('Accuracy: {:.4f}'.format(acc))"
   ],
   "metadata": {
    "collapsed": false,
    "pycharm": {
     "name": "#%%\n"
    }
   }
  },
  {
   "cell_type": "code",
   "execution_count": 15,
   "outputs": [
    {
     "data": {
      "text/plain": "tensor([[0.0190],\n        [0.3419],\n        [0.0756],\n        [0.2785],\n        [0.0434],\n        [0.0427],\n        [0.1994],\n        [0.3592],\n        [0.3508],\n        [0.3612],\n        [0.3721],\n        [0.3486],\n        [0.3702],\n        [0.4289],\n        [0.4214],\n        [0.4277],\n        [0.4251],\n        [0.4167],\n        [0.6469],\n        [0.3567],\n        [0.4236],\n        [0.7809],\n        [0.3597],\n        [0.4279],\n        [0.9104],\n        [0.3638],\n        [0.4324],\n        [0.8382],\n        [0.3618],\n        [0.4329]], grad_fn=<SigmoidBackward>)"
     },
     "execution_count": 15,
     "metadata": {},
     "output_type": "execute_result"
    }
   ],
   "source": [
    "pred"
   ],
   "metadata": {
    "collapsed": false,
    "pycharm": {
     "name": "#%%\n"
    }
   }
  },
  {
   "cell_type": "code",
   "execution_count": 164,
   "outputs": [
    {
     "data": {
      "text/plain": "tensor([0, 0, 0, 0, 0, 0, 0, 0, 0, 0, 0, 0, 0, 0, 0, 0, 0, 0, 1, 1, 1, 1, 1, 1,\n        1, 1, 1, 1, 1, 1])"
     },
     "execution_count": 164,
     "metadata": {},
     "output_type": "execute_result"
    }
   ],
   "source": [
    "data.y\n"
   ],
   "metadata": {
    "collapsed": false,
    "pycharm": {
     "name": "#%%\n"
    }
   }
  },
  {
   "cell_type": "code",
   "execution_count": 20,
   "outputs": [
    {
     "data": {
      "text/plain": "tensor([[0.0248, 0.3126, 0.1272, 0.3231, 0.0295, 0.0489, 0.1815, 0.4388, 0.4259,\n         0.4383, 0.4432, 0.4215, 0.4394, 0.4964, 0.4585, 0.4738, 0.4764, 0.4632,\n         0.7564, 0.4397, 0.4425, 0.7650, 0.4313, 0.4830, 0.8987, 0.4410, 0.4752,\n         0.8617, 0.4333, 0.4701]], grad_fn=<PermuteBackward>)"
     },
     "execution_count": 20,
     "metadata": {},
     "output_type": "execute_result"
    }
   ],
   "source": [
    "out.T"
   ],
   "metadata": {
    "collapsed": false,
    "pycharm": {
     "name": "#%%\n"
    }
   }
  },
  {
   "cell_type": "code",
   "execution_count": 18,
   "outputs": [
    {
     "data": {
      "text/plain": "torch.Size([30])"
     },
     "execution_count": 18,
     "metadata": {},
     "output_type": "execute_result"
    }
   ],
   "source": [
    "data.y.float().shape\n"
   ],
   "metadata": {
    "collapsed": false,
    "pycharm": {
     "name": "#%%\n"
    }
   }
  }
 ],
 "metadata": {
  "kernelspec": {
   "display_name": "Python 3",
   "language": "python",
   "name": "python3"
  },
  "language_info": {
   "codemirror_mode": {
    "name": "ipython",
    "version": 2
   },
   "file_extension": ".py",
   "mimetype": "text/x-python",
   "name": "python",
   "nbconvert_exporter": "python",
   "pygments_lexer": "ipython2",
   "version": "2.7.6"
  }
 },
 "nbformat": 4,
 "nbformat_minor": 0
}
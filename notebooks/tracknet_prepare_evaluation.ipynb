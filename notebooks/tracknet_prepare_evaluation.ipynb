{
 "cells": [
  {
   "cell_type": "code",
   "execution_count": 1,
   "metadata": {},
   "outputs": [],
   "source": [
    "import import_ipynb\n",
    "import os\n",
    "import sys\n",
    "import gin\n",
    "from IPython.core.display import clear_output, display\n",
    "import sys\n",
    "sys.path.append('../')\n",
    "from ariadne.graph_net.graph_utils.graph_prepare_utils import to_pandas_graph_from_df, get_pd_line_graph, \\\n",
    "    apply_nodes_restrictions\n",
    "from ariadne.transformations import Compose, ConstraintsNormalize, ToCylindrical, DropFakes, DropSpinningTracks, DropShort\n",
    "module_path = os.path.abspath(os.path.join('..'))\n",
    "if module_path not in sys.path:\n",
    "    sys.path.append(module_path)\n",
    "\n",
    "import matplotlib.pyplot as plt\n",
    "\n",
    "%matplotlib inline\n",
    "%load_ext autoreload\n",
    "%autoreload 2"
   ]
  },
  {
   "cell_type": "code",
   "execution_count": 2,
   "metadata": {},
   "outputs": [],
   "source": [
    "from prepare import parse\n",
    "\n",
    "csv_params = {\n",
    "\"sep\": '\\s+',\n",
    "\"nrows\": 15000,\n",
    "\"encoding\": 'utf-8',\n",
    "\"names\": ['event',  'x', 'y', 'z', 'station', 'track', 'px', 'py', 'pz', 'X0', 'Y0', 'Z0']\n",
    "}\n",
    "suff_df = ('_p', '_c')\n",
    "\n",
    "stations_constraints = {\n",
    "    0: {'r': [-167., 167.], 'phi': [-3.15, 3.15], 'z': [-423.5, 423.5]},\n",
    "    1: {'r': [-167., 167.], 'phi': [-3.15, 3.15], 'z': [-423.5, 423.5]},\n",
    "    2: {'r': [-167., 167.], 'phi': [-3.15, 3.15], 'z': [-423.5, 423.5]},\n",
    "}\n",
    "\n",
    "\n"
   ]
  },
  {
   "cell_type": "code",
   "execution_count": 3,
   "metadata": {},
   "outputs": [],
   "source": [
    "## parse df\n",
    "events = parse(\"../data/new_data/1.txt\", csv_params=csv_params, events_quantity='0..300')"
   ]
  },
  {
   "cell_type": "code",
   "execution_count": 4,
   "metadata": {
    "collapsed": false,
    "jupyter": {
     "outputs_hidden": false
    },
    "pycharm": {
     "name": "#%%\n"
    }
   },
   "outputs": [],
   "source": [
    "import pandas as pd"
   ]
  },
  {
   "cell_type": "code",
   "execution_count": 8,
   "metadata": {},
   "outputs": [],
   "source": [
    "for event in events:\n",
    "    print(event.head())"
   ]
  },
  {
   "cell_type": "code",
   "execution_count": 9,
   "metadata": {},
   "outputs": [],
   "source": [
    "events = pd.read_table(\"../data/new_data/1.txt\", names=['event',  'x', 'y', 'z', 'station',\n",
    "                               'track', 'px', 'py', 'pz', 'X0', 'Y0', 'Z0'], sep='\\s+')"
   ]
  },
  {
   "cell_type": "code",
   "execution_count": 13,
   "metadata": {},
   "outputs": [
    {
     "data": {
      "text/plain": [
       "'Event #000000298'"
      ]
     },
     "metadata": {},
     "output_type": "display_data"
    },
    {
     "name": "stdout",
     "output_type": "stream",
     "text": [
      "{0: {'r': [-167.0, 167.0], 'phi': [-3.15, 3.15], 'z': [-423.5, 423.5]}, 1: {'r': [-167.0, 167.0], 'phi': [-3.15, 3.15], 'z': [-423.5, 423.5]}, 2: {'r': [-167.0, 167.0], 'phi': [-3.15, 3.15], 'z': [-423.5, 423.5]}}\n"
     ]
    }
   ],
   "source": [
    "events = events[events.event < 300]\n",
    "for idx, event in events.groupby('event'):\n",
    "    clear_output(wait=True)\n",
    "    display(\"Event #%09d\" % idx)\n",
    "\n",
    "    transformer = Compose([\n",
    "            DropFakes(),\n",
    "            DropSpinningTracks(),\n",
    "            DropShort(),\n",
    "            ToCylindrical(),\n",
    "            ConstraintsNormalize(\n",
    "                use_global_constraints=False,\n",
    "                constraints=stations_constraints,\n",
    "                columns=('r', 'phi', 'z')\n",
    "            ),\n",
    "        ])\n",
    "    try:\n",
    "        event = transformer(event)\n",
    "    except AssertionError as err:\n",
    "        print(\"ASS error %r\" % err)\n",
    "        continue\n",
    "    "
   ]
  },
  {
   "cell_type": "code",
   "execution_count": 8,
   "metadata": {
    "collapsed": false,
    "jupyter": {
     "outputs_hidden": false
    },
    "pycharm": {
     "name": "#%%\n"
    }
   },
   "outputs": [
    {
     "data": {
      "text/plain": [
       "<matplotlib.legend.Legend at 0x7f88c2b9d750>"
      ]
     },
     "execution_count": 8,
     "metadata": {},
     "output_type": "execute_result"
    },
    {
     "data": {
      "image/png": "[encoded data removed]",
      "text/plain": [
       "<Figure size 1296x432 with 2 Axes>"
      ]
     },
     "metadata": {
      "needs_background": "light"
     },
     "output_type": "display_data"
    }
   ],
   "source": [
    "true_nodes = nodes[nodes.track != -1]\n",
    "fake_nodes = nodes[nodes.track == -1]\n",
    "\n",
    "plt.figure(figsize=(18,6))\n",
    "\n",
    "plt.subplot(121)\n",
    "binning=dict(bins=300, range=(-0.8, 0.8))\n",
    "plt.hist(fake_nodes.dy, label='fake', log=True, **binning)\n",
    "plt.hist(true_nodes.dy, label='true', **binning)\n",
    "#plt.axvline(-0.15, color='yellow', linestyle='dashed', linewidth=3)\n",
    "#plt.axvline(0.15, color='yellow', linestyle='dashed', linewidth=3)\n",
    "plt.ylabel('$count$')\n",
    "plt.xlabel('dy (dphi)')\n",
    "plt.legend(loc=0)\n",
    "\n",
    "plt.subplot(122)\n",
    "binning=dict(bins=300, range=(-0.8, 0.8))\n",
    "plt.hist(fake_nodes.dz, label='fake', log=True, **binning)\n",
    "plt.hist(true_nodes.dz, label='true', **binning)\n",
    "#plt.axvline(-0.15, color='yellow', linestyle='dashed', linewidth=3)\n",
    "#plt.axvline(0.15, color='yellow', linestyle='dashed', linewidth=3)\n",
    "plt.ylabel('$count$')\n",
    "plt.xlabel('dz')\n",
    "plt.legend(loc=0)"
   ]
  },
  {
   "cell_type": "code",
   "execution_count": 10,
   "metadata": {
    "collapsed": false,
    "jupyter": {
     "outputs_hidden": false
    },
    "pycharm": {
     "name": "#%%\n"
    }
   },
   "outputs": [],
   "source": [
    "def calc_purity_reduce_factor(df_full, df_filtered, true_label = 'true_superedge', cmp_with=-1):\n",
    "    assert true_label in df_full and true_label in df_filtered\n",
    "\n",
    "    return len(df_filtered[df_filtered[true_label] != cmp_with]) / len(df_full[df_full[true_label] != cmp_with]), len(df_full) / len(df_filtered)"
   ]
  },
  {
   "cell_type": "code",
   "execution_count": 34,
   "metadata": {
    "collapsed": false,
    "jupyter": {
     "outputs_hidden": false
    },
    "pycharm": {
     "name": "#%%\n"
    }
   },
   "outputs": [
    {
     "name": "stdout",
     "output_type": "stream",
     "text": [
      "Initial fake to real ratio is 98.113562\n",
      "Currently fake to real ratio is 9.168247\n",
      "Result purity 0.991; segments filtering reduced ratio in 10.803 times\n"
     ]
    }
   ],
   "source": [
    "def filter_segments(df, dphi_min, dphi_max, dz_min, dz_max):\n",
    "    return df[\n",
    "        (df.dy > dphi_min) & (df.dy < dphi_max) &\n",
    "        (df.dz > dz_min) & (df.dz < dz_max)\n",
    "    ]\n",
    "\n",
    "\n",
    "dphi_minmax = (-0.2, 0.2)\n",
    "dz_minmax = (-0.28, 0.28)\n",
    "segments = nodes\n",
    "filtered = filter_segments(segments, *dphi_minmax, *dz_minmax)\n",
    "\n",
    "purity_, reduce_ = calc_purity_reduce_factor(segments, filtered, 'track', -1)\n",
    "print(\"Initial fake to real ratio is %.6f\" % (len(segments) / len(segments[segments.track != -1])))\n",
    "print(\"Currently fake to real ratio is %.6f\" % (len(filtered) / len(filtered[filtered.track != -1])))\n",
    "print(\"Result purity %.3f; segments filtering reduced ratio in %.3f times\" % (purity_, reduce_))"
   ]
  },
  {
   "cell_type": "code",
   "execution_count": 36,
   "metadata": {
    "collapsed": false,
    "jupyter": {
     "outputs_hidden": false
    },
    "pycharm": {
     "name": "#%%\n"
    }
   },
   "outputs": [
    {
     "name": "stdout",
     "output_type": "stream",
     "text": [
      "Initial fake to real ratio is 3038.049044\n",
      "Currently fake to real ratio is 11.052897\n",
      "Result purity 0.990; segments filtering reduced ratio in 277.634 times\n"
     ]
    }
   ],
   "source": [
    "def apply_edge_restriction(pd_edges_df, RESTRICTION=0.15):\n",
    "    assert 'weight' in pd_edges_df\n",
    "    return pd_edges_df[pd_edges_df.weight < RESTRICTION]\n",
    "\n",
    "\n",
    "filtered = apply_edge_restriction(edges, 0.093)\n",
    "\n",
    "purity_, reduce_ = calc_purity_reduce_factor(edges, filtered, 'true_superedge', -1)\n",
    "print(\"Initial fake to real ratio is %.6f\" % (len(edges) / len(edges[edges.true_superedge != -1])))\n",
    "print(\"Currently fake to real ratio is %.6f\" % (len(filtered) / len(filtered[filtered.true_superedge != -1])))\n",
    "print(\"Result purity %.3f; segments filtering reduced ratio in %.3f times\" % (purity_, reduce_))"
   ]
  }
 ],
 "metadata": {
  "kernelspec": {
   "display_name": "Python 3",
   "language": "python",
   "name": "python3"
  },
  "language_info": {
   "codemirror_mode": {
    "name": "ipython",
    "version": 3
   },
   "file_extension": ".py",
   "mimetype": "text/x-python",
   "name": "python",
   "nbconvert_exporter": "python",
   "pygments_lexer": "ipython3",
   "version": "3.7.8"
  }
 },
 "nbformat": 4,
 "nbformat_minor": 4
}

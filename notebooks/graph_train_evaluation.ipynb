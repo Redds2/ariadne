{
 "cells": [
  {
   "cell_type": "code",
   "execution_count": 1,
   "metadata": {},
   "outputs": [
    {
     "name": "stderr",
     "output_type": "stream",
     "text": [
      "C:\\Miniconda3\\envs\\ariadne_gpu\\lib\\site-packages\\pytorch_lightning\\utilities\\distributed.py:37: UserWarning: Unsupported `ReduceOp` for distributed computing.\n",
      "  warnings.warn(*args, **kwargs)\n"
     ]
    }
   ],
   "source": [
    "import os\n",
    "import sys\n",
    "import gin\n",
    "import numpy as np\n",
    "import pandas as pd\n",
    "from IPython.core.display import clear_output, display\n",
    "from ariadne.graph_net.graph_utils.graph_prepare_utils import to_pandas_graph_from_df, get_pd_line_graph, \\\n",
    "    apply_nodes_restrictions, apply_edge_restriction, construct_output_graph\n",
    "from ariadne.transformations import Compose, ConstraintsNormalize, ToCylindrical\n",
    "module_path = os.path.abspath(os.path.join('..'))\n",
    "if module_path not in sys.path:\n",
    "    sys.path.append(module_path)\n",
    "\n",
    "import matplotlib.pyplot as plt\n",
    "\n",
    "%matplotlib inline\n",
    "%load_ext autoreload\n",
    "%autoreload 2\n"
   ]
  },
  {
   "cell_type": "code",
   "execution_count": 2,
   "metadata": {},
   "outputs": [],
   "source": [
    "from prepare import parse\n",
    "\n",
    "csv_params = {\n",
    "\"sep\": '\\s+',\n",
    "\"nrows\": 15000,\n",
    "\"encoding\": 'utf-8',\n",
    "\"names\": ['event',  'x', 'y', 'z', 'station', 'track', 'px', 'py', 'pz', 'X0', 'Y0', 'Z0']\n",
    "}\n",
    "suff_df = ('_p', '_c')\n",
    "gin.bind_parameter('get_pd_line_graph.restrictions_0',(-0.2, 0.2))\n",
    "gin.bind_parameter('get_pd_line_graph.restrictions_1', (-0.28, 0.28))\n",
    "gin.bind_parameter('get_pd_line_graph.suffix_c', '_c')\n",
    "gin.bind_parameter('get_pd_line_graph.suffix_p','_p')\n",
    "gin.bind_parameter('get_supernodes_df.suffix_c', '_c')\n",
    "gin.bind_parameter('get_supernodes_df.suffix_p', '_p')\n",
    "gin.bind_parameter('get_supernodes_df.axes', ['r', 'phi', 'z'])\n",
    "gin.bind_parameter('apply_edge_restriction.edge_restriction', 0.093)\n",
    "stations_constraints = {\n",
    "    0: {'x': [-166.6, 166.6], 'y': [-166.6, 166.6], 'z': [-423.5, 423.5]},\n",
    "    1: {'x': [-166.6, 166.6], 'y': [-166.6, 166.6], 'z': [-423.5, 423.5]},\n",
    "    2: {'x': [-166.6, 166.6], 'y': [-166.6, 166.6], 'z': [-423.5, 423.5]},\n",
    "}"
   ]
  },
  {
   "cell_type": "code",
   "execution_count": 3,
   "metadata": {},
   "outputs": [],
   "source": [
    "events = parse(\"../data/new_data/1.txt\", csv_params=csv_params, events_quantity='0..300')\n",
    "events = next(events)[0]\n",
    "events_to_analyze = events[events.event < 300]"
   ]
  },
  {
   "cell_type": "code",
   "execution_count": 4,
   "metadata": {},
   "outputs": [],
   "source": [
    "from collections import namedtuple\n",
    "GraphWithIndices = namedtuple('Graph', ['X', 'Ri', 'Ro', 'y', 'v', 'v_from_to','e_from_to' ])\n",
    "\n",
    "def construct_graph_with_indices(graph, v_inds, v_from_to, e_from_to):\n",
    "    return GraphWithIndices(graph.X, graph.Ri, graph.Ro, graph.y, v_inds, v_from_to, e_from_to)"
   ]
  },
  {
   "cell_type": "code",
   "execution_count": 5,
   "metadata": {},
   "outputs": [
    {
     "data": {
      "text/plain": [
       "'Event #000000298'"
      ]
     },
     "metadata": {},
     "output_type": "display_data"
    }
   ],
   "source": [
    "nodes = pd.DataFrame()\n",
    "edges = pd.DataFrame()\n",
    "\n",
    "graphs = []\n",
    "\n",
    "for idx, event in events_to_analyze.groupby('event'):\n",
    "    clear_output(wait=True)\n",
    "    display(\"Event #%09d\" % idx)\n",
    "\n",
    "    transformer = Compose([\n",
    "            ConstraintsNormalize(\n",
    "                use_global_constraints=False,\n",
    "                constraints=stations_constraints\n",
    "            ),\n",
    "            ToCylindrical(drop_old=True, cart_columns=('y', 'x'))\n",
    "        ])\n",
    "    try:\n",
    "        event = transformer(event)\n",
    "    except AssertionError as err:\n",
    "        print(\"ASS error %r\" % err)\n",
    "        continue\n",
    "    G = to_pandas_graph_from_df(event, suffixes=suff_df, compute_is_true_track=True)\n",
    "    nodes_t, edges_t = get_pd_line_graph(G, apply_nodes_restrictions)\n",
    "    edges_filtered = apply_edge_restriction(edges_t)\n",
    "    graph = construct_output_graph(nodes_t, edges_filtered, ['y_p', 'y_c', 'z_p', 'z_c', 'z'],\n",
    "                                     [np.pi, np.pi, 1., 1., 1.], 'edge_index_p', 'edge_index_c')\n",
    "    graph_with_inds = construct_graph_with_indices(graph, \n",
    "                                                   nodes_t.index.values, \n",
    "                                                   nodes_t[['from_ind','to_ind']].values,\n",
    "                                                   edges_filtered[['edge_index_p','edge_index_c']].values)\n",
    "    np.testing.assert_allclose(graph_with_inds.X, nodes_t[['y_p', 'y_c', 'z_p', 'z_c', 'z']].values/[np.pi, np.pi, 1., 1., 1.])\n",
    "    graphs.append(graph_with_inds)\n",
    "    \n",
    "    "
   ]
  },
  {
   "cell_type": "code",
   "execution_count": 6,
   "metadata": {},
   "outputs": [
    {
     "data": {
      "text/plain": [
       "261"
      ]
     },
     "execution_count": 6,
     "metadata": {},
     "output_type": "execute_result"
    }
   ],
   "source": [
    "len(graphs)"
   ]
  },
  {
   "cell_type": "code",
   "execution_count": 7,
   "metadata": {
    "scrolled": true
   },
   "outputs": [],
   "source": [
    "from ariadne.graph_net.model import GraphNet_v1\n",
    "import torch\n",
    "\n",
    "gin.bind_parameter('GraphNet_v1.input_dim', 5)\n",
    "gin.bind_parameter('GraphNet_v1.hidden_dim', 128)\n",
    "gin.bind_parameter('GraphNet_v1.n_iters', 1)\n",
    "\n",
    "def weights_update(model, checkpoint):\n",
    "    model_dict = model.state_dict()    \n",
    "    pretrained_dict =  checkpoint['state_dict']\n",
    "    real_dict = {}\n",
    "    for (k,v) in model_dict.items():\n",
    "        needed_key = None\n",
    "        for pretr_key in pretrained_dict:\n",
    "            if k in pretr_key:\n",
    "                needed_key = pretr_key\n",
    "                break\n",
    "        assert needed_key is not None, \"key %s not in pretrained_dict %r!\" % (k, pretrained_dict.keys())\n",
    "        real_dict[k] = pretrained_dict[needed_key]\n",
    "\n",
    "    model.load_state_dict(real_dict)\n",
    "    model.eval()\n",
    "    return model\n",
    "\n",
    "model = weights_update(model=GraphNet_v1(), checkpoint=torch.load('../lightning_logs/version_hydra_63115/checkpoints/epoch=49.ckpt'))\n"
   ]
  },
  {
   "cell_type": "code",
   "execution_count": 8,
   "metadata": {},
   "outputs": [],
   "source": [
    "from ariadne.graph_net.dataset import GraphDatasetFromMemory, collate_fn\n",
    "from ariadne.graph_net.data_loader import GraphDataLoader\n",
    "\n",
    "gin.bind_parameter('GraphDatasetFromMemory.input_graphs', graphs)\n",
    "\n",
    "data_loader = GraphDataLoader(\n",
    "    batch_size=1,\n",
    "    dataset=GraphDatasetFromMemory,\n",
    "    collate_fn=collate_fn,\n",
    "    n_train=0,\n",
    "    n_valid=len(graphs)-1    \n",
    ").get_val_dataloader()"
   ]
  },
  {
   "cell_type": "code",
   "execution_count": 9,
   "metadata": {},
   "outputs": [],
   "source": [
    "with torch.no_grad():\n",
    "    test_outputs = [(model(batch_input).flatten(), batch_target.flatten())\n",
    "                    for (batch_input, batch_target) in data_loader]\n",
    "    test_pred, test_target = zip(*test_outputs)\n",
    "    test_pred = np.concatenate(test_pred)\n",
    "    test_target = np.concatenate(test_target)\n"
   ]
  },
  {
   "cell_type": "code",
   "execution_count": 10,
   "metadata": {},
   "outputs": [
    {
     "name": "stdout",
     "output_type": "stream",
     "text": [
      "Test set results with threshold of 0.5\n",
      "Accuracy:  0.9787\n",
      "Precision: 0.9111\n",
      "Recall:    0.9619\n"
     ]
    }
   ],
   "source": [
    "import sklearn.metrics\n",
    "thresh = 0.5\n",
    "y_pred, y_true = (test_pred > thresh), (test_target > thresh)\n",
    "print('Test set results with threshold of', thresh)\n",
    "print('Accuracy:  %.4f' % sklearn.metrics.accuracy_score(y_true, y_pred))\n",
    "print('Precision: %.4f' % sklearn.metrics.precision_score(y_true, y_pred))\n",
    "print('Recall:    %.4f' % sklearn.metrics.recall_score(y_true, y_pred))"
   ]
  },
  {
   "cell_type": "code",
   "execution_count": 11,
   "metadata": {},
   "outputs": [
    {
     "data": {
      "image/png": "[encoded data removed]",
      "text/plain": [
       "<Figure size 864x360 with 2 Axes>"
      ]
     },
     "metadata": {
      "needs_background": "light"
     },
     "output_type": "display_data"
    }
   ],
   "source": [
    "fpr, tpr, _ = sklearn.metrics.roc_curve(y_true, test_pred)\n",
    "fig, (ax0, ax1) = plt.subplots(ncols=2, figsize=(12,5))\n",
    "\n",
    "# Plot the model outputs\n",
    "binning=dict(bins=50, range=(0,1), histtype='bar', log=True)\n",
    "ax0.hist(test_pred[y_true==False], label='fake', **binning)\n",
    "ax0.hist(test_pred[y_true], label='true', **binning)\n",
    "ax0.set_xlabel('Model output')\n",
    "ax0.legend(loc=0)\n",
    "\n",
    "# Plot the ROC curve\n",
    "auc = sklearn.metrics.auc(fpr, tpr)\n",
    "ax1.plot(fpr, tpr)\n",
    "ax1.plot([0, 1], [0, 1], '--')\n",
    "ax1.set_xlabel('False positive rate')\n",
    "ax1.set_ylabel('True positive rate')\n",
    "ax1.set_title('ROC curve, AUC = %.3f' % auc)\n",
    "\n",
    "plt.tight_layout()"
   ]
  },
  {
   "cell_type": "code",
   "execution_count": 12,
   "metadata": {},
   "outputs": [],
   "source": [
    "def draw_single(X, Ri, Ro, y, c_true = 'green', c_fake = (0,0,0,0.1), xcord1 = (2, 'x'), xcord2 = (1, 'y'), ycord=(0, 'z'), draw_fake=True):\n",
    "    feats_o = X[np.where(Ri.T)[1]]\n",
    "    feats_i = X[np.where(Ro.T)[1]]\n",
    "    # Prepare the figure\n",
    "    fig, (ax0, ax1) = plt.subplots(1, 2, figsize=(12, 5))\n",
    "    #                0    1  2  3  4  5\n",
    "    # Draw the hits (r, phi, z, x, y, z)\n",
    "    # colMap = np.zeros_like(X)\n",
    "    # colMap[:, 0] = X[:, 0]*1.7 + 100\n",
    "    # colMap *= 1.0 / colMap.max()\n",
    "    ax0.scatter(X[:, xcord1[0]],\n",
    "                X[:, ycord[0]], c='black')\n",
    "    ax1.scatter(X[:, xcord2[0]],\n",
    "                X[:, ycord[0]], c='black')\n",
    "\n",
    "    # Draw the segments\n",
    "    for j in range(y.shape[0]):\n",
    "        ax0.plot([feats_o[j, xcord1[0]], feats_i[j, xcord1[0]]],\n",
    "                 [feats_o[j, ycord[0]], feats_i[j, ycord[0]]], '-', c=c_true if y[j] > 0.5 else c_fake, zorder=10 if y[j] > 0.5 else 1)\n",
    "        ax1.plot([feats_o[j, xcord2[0]], feats_i[j, xcord2[0]]],\n",
    "                 [feats_o[j, ycord[0]], feats_i[j, ycord[0]]], '-', c=c_true if y[j] > 0.5 else c_fake, zorder=10 if y[j] > 0.5 else 1)\n",
    "    # Adjust axes\n",
    "    ax0.set_xlabel('$%s$' % xcord1[1])\n",
    "    ax0.set_ylabel('$%s$' % ycord[1])\n",
    "\n",
    "    ax1.set_xlabel('$%s$' % xcord2[1])\n",
    "    ax1.set_ylabel('$%s$' % ycord[1])\n",
    "    plt.tight_layout()\n",
    "    plt.show()"
   ]
  },
  {
   "cell_type": "code",
   "execution_count": 13,
   "metadata": {},
   "outputs": [
    {
     "data": {
      "image/png": "[encoded data removed]",
      "text/plain": [
       "<Figure size 864x360 with 2 Axes>"
      ]
     },
     "metadata": {
      "needs_background": "light"
     },
     "output_type": "display_data"
    },
    {
     "data": {
      "image/png": "[encoded data removed]",
      "text/plain": [
       "<Figure size 864x360 with 2 Axes>"
      ]
     },
     "metadata": {
      "needs_background": "light"
     },
     "output_type": "display_data"
    }
   ],
   "source": [
    "\n",
    "n_draw = 123\n",
    "\n",
    "X, Ri, Ro, y = data_loader.dataset[n_draw]\n",
    "pred = test_outputs[n_draw][0].numpy()\n",
    "draw_single(X, Ri, Ro, pred, c_fake=(0,0,0,0.0), xcord1=(0, 'x'), xcord2=(4, 'y'), ycord=(2, 'z'))\n",
    "draw_single(X, Ri, Ro, y, c_fake=(0,0,0,0.0), xcord1=(0, 'x'), xcord2=(4, 'y'), ycord=(2, 'z'))\n"
   ]
  }
 ],
 "metadata": {
  "kernelspec": {
   "display_name": "Python 3",
   "language": "python",
   "name": "python3"
  },
  "language_info": {
   "codemirror_mode": {
    "name": "ipython",
    "version": 3
   },
   "file_extension": ".py",
   "mimetype": "text/x-python",
   "name": "python",
   "nbconvert_exporter": "python",
   "pygments_lexer": "ipython3",
   "version": "3.7.8"
  }
 },
 "nbformat": 4,
 "nbformat_minor": 1
}
